{
  "cells": [
    {
      "cell_type": "markdown",
      "metadata": {
        "id": "view-in-github",
        "colab_type": "text"
      },
      "source": [
        "<a href=\"https://colab.research.google.com/github/rodmart21/Sports_analytics/blob/main/Webscraping_football_data.ipynb\" target=\"_parent\"><img src=\"https://colab.research.google.com/assets/colab-badge.svg\" alt=\"Open In Colab\"/></a>"
      ]
    },
    {
      "cell_type": "markdown",
      "source": [
        "# Webscrapping important football data from the most significant specialized websites."
      ],
      "metadata": {
        "id": "vmyiNLMGsAom"
      },
      "id": "vmyiNLMGsAom"
    },
    {
      "cell_type": "markdown",
      "source": [
        "## 1) Scrapping from Transfermarkt. It is possible to get some interesting information."
      ],
      "metadata": {
        "id": "EPMOHpKTvyQq"
      },
      "id": "EPMOHpKTvyQq"
    },
    {
      "cell_type": "markdown",
      "source": [
        "### 1.1) Using the URL"
      ],
      "metadata": {
        "id": "yHqkPt2xH2gE"
      },
      "id": "yHqkPt2xH2gE"
    },
    {
      "cell_type": "markdown",
      "source": [
        "Import all neccesary libraries."
      ],
      "metadata": {
        "id": "xSkAhE__ugAH"
      },
      "id": "xSkAhE__ugAH"
    },
    {
      "cell_type": "code",
      "execution_count": 1,
      "id": "initial_id",
      "metadata": {
        "collapsed": true,
        "ExecuteTime": {
          "end_time": "2023-12-17T05:20:01.671284Z",
          "start_time": "2023-12-17T05:20:01.578104Z"
        },
        "id": "initial_id"
      },
      "outputs": [],
      "source": [
        "import re\n",
        "import requests\n",
        "from bs4 import BeautifulSoup"
      ]
    },
    {
      "cell_type": "markdown",
      "source": [
        "Every player has a specific ID in transfermarkt that identifies him uniquely."
      ],
      "metadata": {
        "id": "0YmrBgAAxkm8"
      },
      "id": "0YmrBgAAxkm8"
    },
    {
      "cell_type": "code",
      "execution_count": 7,
      "outputs": [],
      "source": [
        "url = \"https://www.transfermarkt.us/erling-haaland/profil/spieler/418560\"\n",
        "player_id = url.split('/')[-1]"
      ],
      "metadata": {
        "ExecuteTime": {
          "end_time": "2023-12-17T05:20:08.396680Z",
          "start_time": "2023-12-17T05:20:08.394096Z"
        },
        "id": "6d5f36a5e2f72211"
      },
      "id": "6d5f36a5e2f72211"
    },
    {
      "cell_type": "markdown",
      "source": [
        "You can get your header from this website, it is neccesary to make the necessary request: https://www.whatismybrowser.com/detect/what-http-headers-is-my-browser-sending. USER-AGENT has to be selected.\n"
      ],
      "metadata": {
        "id": "V4DLTL5-xkCO"
      },
      "id": "V4DLTL5-xkCO"
    },
    {
      "cell_type": "code",
      "source": [
        "headers = {'user-agent': 'Mozilla/5.0 (Windows NT 10.0; Win64; x64) AppleWebKit/537.36 (KHTML, like Gecko) Chrome/124.0.0.0 Safari/537.36'}"
      ],
      "metadata": {
        "id": "EnNRhvDiUG7E"
      },
      "id": "EnNRhvDiUG7E",
      "execution_count": 13,
      "outputs": []
    },
    {
      "cell_type": "code",
      "execution_count": 14,
      "outputs": [],
      "source": [
        "response = requests.get(url, headers=headers)\n",
        "soup = BeautifulSoup(response.content, \"html.parser\")\n",
        "# BeautifulSoup()   Converts the HTML content into a BeautifulSoup, what makes easier the manipulation and analysis of the HTML."
      ],
      "metadata": {
        "ExecuteTime": {
          "end_time": "2023-12-17T05:20:19.043486Z",
          "start_time": "2023-12-17T05:20:18.142240Z"
        },
        "id": "3ee3258cb5f1de35"
      },
      "id": "3ee3258cb5f1de35"
    },
    {
      "cell_type": "code",
      "source": [
        "response.status_code    # This code means the response has been successful."
      ],
      "metadata": {
        "colab": {
          "base_uri": "https://localhost:8080/"
        },
        "id": "iuAp_8LiUe_H",
        "outputId": "80fb9f94-83be-4611-f868-ca38b2d3c5c9"
      },
      "id": "iuAp_8LiUe_H",
      "execution_count": 15,
      "outputs": [
        {
          "output_type": "execute_result",
          "data": {
            "text/plain": [
              "200"
            ]
          },
          "metadata": {},
          "execution_count": 15
        }
      ]
    },
    {
      "cell_type": "markdown",
      "source": [
        "To access the website, right-click and select \"Inspect\" from the menu. The backend is open, so you can check out the elements behind every part of the website."
      ],
      "metadata": {
        "id": "W-NDQzHUOSYI"
      },
      "id": "W-NDQzHUOSYI"
    },
    {
      "cell_type": "code",
      "source": [
        "p=soup.select_one('h1[class=\"data-header__headline-wrapper\"]')"
      ],
      "metadata": {
        "id": "MKpeVd9LWmf6"
      },
      "id": "MKpeVd9LWmf6",
      "execution_count": 17,
      "outputs": []
    },
    {
      "cell_type": "code",
      "source": [
        "print(p)"
      ],
      "metadata": {
        "colab": {
          "base_uri": "https://localhost:8080/"
        },
        "id": "Sw6gn3hbaAez",
        "outputId": "45b7a4d2-d552-478b-90f5-53be174bd5f6"
      },
      "id": "Sw6gn3hbaAez",
      "execution_count": 18,
      "outputs": [
        {
          "output_type": "stream",
          "name": "stdout",
          "text": [
            "<h1 class=\"data-header__headline-wrapper\">\n",
            "<span class=\"data-header__shirt-number\">\n",
            "                        #9                    </span>\n",
            "                                Erling <strong>Haaland</strong> </h1>\n"
          ]
        }
      ]
    },
    {
      "cell_type": "code",
      "execution_count": 19,
      "outputs": [],
      "source": [
        "player_name = soup.select_one('h1[class=\"data-header__headline-wrapper\"]').text.split('\\n')[-1].strip()\n",
        "player_number = soup.select_one('span[class=\"data-header__shirt-number\"]').text.strip().replace('#', '')"
      ],
      "metadata": {
        "ExecuteTime": {
          "end_time": "2023-12-17T05:20:24.242395Z",
          "start_time": "2023-12-17T05:20:24.238078Z"
        },
        "id": "2a2448897d5838de"
      },
      "id": "2a2448897d5838de"
    },
    {
      "cell_type": "code",
      "source": [
        "print(player_name)"
      ],
      "metadata": {
        "colab": {
          "base_uri": "https://localhost:8080/"
        },
        "id": "xGT01LolFQjK",
        "outputId": "175682f3-61a1-4939-ec7e-672d23892aa4"
      },
      "id": "xGT01LolFQjK",
      "execution_count": 36,
      "outputs": [
        {
          "output_type": "stream",
          "name": "stdout",
          "text": [
            "Erling Haaland\n"
          ]
        }
      ]
    },
    {
      "cell_type": "markdown",
      "source": [
        "Transfermarkt is not the easiest web to scrape data from. Using RegEx, it is possible to find the specific text we are interested in."
      ],
      "metadata": {
        "id": "oyzfNuQJ8HyD"
      },
      "id": "oyzfNuQJ8HyD"
    },
    {
      "cell_type": "code",
      "source": [
        "a=re.search(\"Contract expires: .*__content\\\">(.*?)</span>\",str(soup)).group(1)\n",
        "print(a)"
      ],
      "metadata": {
        "colab": {
          "base_uri": "https://localhost:8080/"
        },
        "id": "PP2wnOPcMliA",
        "outputId": "92f57037-5f6f-47f4-ac34-6259bce1a9fa"
      },
      "id": "PP2wnOPcMliA",
      "execution_count": 37,
      "outputs": [
        {
          "output_type": "stream",
          "name": "stdout",
          "text": [
            "Jun 30, 2027\n"
          ]
        }
      ]
    },
    {
      "cell_type": "markdown",
      "source": [
        "Some other features can be extract like the contract expiry date, the birthdate, player agent and the height."
      ],
      "metadata": {
        "id": "4vvija749O0t"
      },
      "id": "4vvija749O0t"
    },
    {
      "cell_type": "code",
      "execution_count": 25,
      "outputs": [],
      "source": [
        "player_contract_expiry = re.search(\"Contract expires: (.*)\", soup.text).group(1)\n",
        "player_birthplace = re.search(\"Place of birth:.*?([A-z].*?) \", soup.text, re.DOTALL).group(1).strip()\n",
        "player_agent = re.search(\"Agent:.*?([A-z].*?)\\n\", soup.text, re.DOTALL).group(1).strip()\n",
        "player_height = re.search(\"Height:.*?([0-9].*?)\\n\", soup.text, re.DOTALL).group(1).strip()"
      ],
      "metadata": {
        "ExecuteTime": {
          "end_time": "2023-12-17T05:20:38.603396Z",
          "start_time": "2023-12-17T05:20:38.598567Z"
        },
        "id": "29f9348d799db157"
      },
      "id": "29f9348d799db157"
    },
    {
      "cell_type": "code",
      "source": [
        "player_height"
      ],
      "metadata": {
        "colab": {
          "base_uri": "https://localhost:8080/",
          "height": 36
        },
        "id": "vTZNdKjZJ1Fm",
        "outputId": "748a56b2-292b-4ebe-ff86-fe286ee3d630"
      },
      "id": "vTZNdKjZJ1Fm",
      "execution_count": 26,
      "outputs": [
        {
          "output_type": "execute_result",
          "data": {
            "text/plain": [
              "'1,95 m'"
            ],
            "application/vnd.google.colaboratory.intrinsic+json": {
              "type": "string"
            }
          },
          "metadata": {},
          "execution_count": 26
        }
      ]
    },
    {
      "cell_type": "markdown",
      "source": [
        "Let's extract the historical value of Haaland during his career."
      ],
      "metadata": {
        "id": "94xrbeLd_aIm"
      },
      "id": "94xrbeLd_aIm"
    },
    {
      "cell_type": "code",
      "source": [
        "response=requests.get(f'https://www.transfermarkt.es/ceapi/marketValueDevelopment/graph/{player_id}', headers=headers,)"
      ],
      "metadata": {
        "id": "BncJJC-GaAFQ"
      },
      "id": "BncJJC-GaAFQ",
      "execution_count": 28,
      "outputs": []
    },
    {
      "cell_type": "code",
      "source": [
        "response.json()  # Tenemos la lista con todos sus valores de mercado."
      ],
      "metadata": {
        "id": "Gaj3I_1tdNYn",
        "colab": {
          "base_uri": "https://localhost:8080/"
        },
        "outputId": "d44b43e0-ebf6-4c91-f4f1-aef11d2db0b8"
      },
      "id": "Gaj3I_1tdNYn",
      "execution_count": 30,
      "outputs": [
        {
          "output_type": "execute_result",
          "data": {
            "text/plain": [
              "{'list': [{'x': 1482015600000,\n",
              "   'y': 200000,\n",
              "   'mw': '200 mil €',\n",
              "   'datum_mw': '18/12/2016',\n",
              "   'verein': 'Bryne FK',\n",
              "   'age': '16',\n",
              "   'wappen': 'https://tmssl.akamaized.net/images/wappen/profil/1057.png?lm=1480871779'},\n",
              "  {'x': 1513983600000,\n",
              "   'y': 300000,\n",
              "   'mw': '300 mil €',\n",
              "   'datum_mw': '23/12/2017',\n",
              "   'verein': 'Molde FK',\n",
              "   'age': '17',\n",
              "   'wappen': 'https://tmssl.akamaized.net/images/wappen/profil/687.png?lm=1409159512'},\n",
              "  {'x': 1536530400000,\n",
              "   'y': 2000000,\n",
              "   'mw': '2,00 mill. €',\n",
              "   'datum_mw': '10/09/2018',\n",
              "   'verein': 'Molde FK',\n",
              "   'age': '18',\n",
              "   'wappen': ''},\n",
              "  {'x': 1546124400000,\n",
              "   'y': 5000000,\n",
              "   'mw': '5,00 mill. €',\n",
              "   'datum_mw': '30/12/2018',\n",
              "   'verein': 'Molde FK',\n",
              "   'age': '18',\n",
              "   'wappen': ''},\n",
              "  {'x': 1559512800000,\n",
              "   'y': 5000000,\n",
              "   'mw': '5,00 mill. €',\n",
              "   'datum_mw': '03/06/2019',\n",
              "   'verein': 'Red Bull Salzburgo',\n",
              "   'age': '18',\n",
              "   'wappen': 'https://tmssl.akamaized.net/images/wappen/profil/409_1557781653.png?lm=1557781653'},\n",
              "  {'x': 1567461600000,\n",
              "   'y': 12000000,\n",
              "   'mw': '12,00 mill. €',\n",
              "   'datum_mw': '03/09/2019',\n",
              "   'verein': 'Red Bull Salzburgo',\n",
              "   'age': '19',\n",
              "   'wappen': ''},\n",
              "  {'x': 1573081200000,\n",
              "   'y': 30000000,\n",
              "   'mw': '30,00 mill. €',\n",
              "   'datum_mw': '07/11/2019',\n",
              "   'verein': 'Red Bull Salzburgo',\n",
              "   'age': '19',\n",
              "   'wappen': ''},\n",
              "  {'x': 1576450800000,\n",
              "   'y': 45000000,\n",
              "   'mw': '45,00 mill. €',\n",
              "   'datum_mw': '16/12/2019',\n",
              "   'verein': 'Red Bull Salzburgo',\n",
              "   'age': '19',\n",
              "   'wappen': ''},\n",
              "  {'x': 1581375600000,\n",
              "   'y': 60000000,\n",
              "   'mw': '60,00 mill. €',\n",
              "   'datum_mw': '11/02/2020',\n",
              "   'verein': 'Borussia Dortmund',\n",
              "   'age': '19',\n",
              "   'wappen': 'https://tmssl.akamaized.net/images/wappen/profil/16.png?lm=1396275280'},\n",
              "  {'x': 1583881200000,\n",
              "   'y': 80000000,\n",
              "   'mw': '80,00 mill. €',\n",
              "   'datum_mw': '11/03/2020',\n",
              "   'verein': 'Borussia Dortmund',\n",
              "   'age': '19',\n",
              "   'wappen': ''},\n",
              "  {'x': 1586296800000,\n",
              "   'y': 72000000,\n",
              "   'mw': '72,00 mill. €',\n",
              "   'datum_mw': '08/04/2020',\n",
              "   'verein': 'Borussia Dortmund',\n",
              "   'age': '19',\n",
              "   'wappen': ''},\n",
              "  {'x': 1600207200000,\n",
              "   'y': 80000000,\n",
              "   'mw': '80,00 mill. €',\n",
              "   'datum_mw': '16/09/2020',\n",
              "   'verein': 'Borussia Dortmund',\n",
              "   'age': '20',\n",
              "   'wappen': ''},\n",
              "  {'x': 1606345200000,\n",
              "   'y': 100000000,\n",
              "   'mw': '100,00 mill. €',\n",
              "   'datum_mw': '26/11/2020',\n",
              "   'verein': 'Borussia Dortmund',\n",
              "   'age': '20',\n",
              "   'wappen': ''},\n",
              "  {'x': 1612911600000,\n",
              "   'y': 110000000,\n",
              "   'mw': '110,00 mill. €',\n",
              "   'datum_mw': '10/02/2021',\n",
              "   'verein': 'Borussia Dortmund',\n",
              "   'age': '20',\n",
              "   'wappen': ''},\n",
              "  {'x': 1623189600000,\n",
              "   'y': 130000000,\n",
              "   'mw': '130,00 mill. €',\n",
              "   'datum_mw': '09/06/2021',\n",
              "   'verein': 'Borussia Dortmund',\n",
              "   'age': '20',\n",
              "   'wappen': ''},\n",
              "  {'x': 1633557600000,\n",
              "   'y': 150000000,\n",
              "   'mw': '150,00 mill. €',\n",
              "   'datum_mw': '07/10/2021',\n",
              "   'verein': 'Borussia Dortmund',\n",
              "   'age': '21',\n",
              "   'wappen': ''},\n",
              "  {'x': 1640127600000,\n",
              "   'y': 150000000,\n",
              "   'mw': '150,00 mill. €',\n",
              "   'datum_mw': '22/12/2021',\n",
              "   'verein': 'Borussia Dortmund',\n",
              "   'age': '21',\n",
              "   'wappen': ''},\n",
              "  {'x': 1654725600000,\n",
              "   'y': 150000000,\n",
              "   'mw': '150,00 mill. €',\n",
              "   'datum_mw': '09/06/2022',\n",
              "   'verein': 'Borussia Dortmund',\n",
              "   'age': '21',\n",
              "   'wappen': ''},\n",
              "  {'x': 1667430000000,\n",
              "   'y': 170000000,\n",
              "   'mw': '170,00 mill. €',\n",
              "   'datum_mw': '03/11/2022',\n",
              "   'verein': 'Manchester City',\n",
              "   'age': '22',\n",
              "   'wappen': 'https://tmssl.akamaized.net/images/wappen/profil/281.png?lm=1467356331'},\n",
              "  {'x': 1687212000000,\n",
              "   'y': 180000000,\n",
              "   'mw': '180,00 mill. €',\n",
              "   'datum_mw': '20/06/2023',\n",
              "   'verein': 'Manchester City',\n",
              "   'age': '22',\n",
              "   'wappen': ''},\n",
              "  {'x': 1702940400000,\n",
              "   'y': 180000000,\n",
              "   'mw': '180,00 mill. €',\n",
              "   'datum_mw': '19/12/2023',\n",
              "   'verein': 'Manchester City',\n",
              "   'age': '23',\n",
              "   'wappen': ''},\n",
              "  {'x': 1716760800000,\n",
              "   'y': 180000000,\n",
              "   'mw': '180,00 mill. €',\n",
              "   'datum_mw': '27/05/2024',\n",
              "   'verein': 'Manchester City',\n",
              "   'age': '23',\n",
              "   'wappen': 'https://tmssl.akamaized.net/images/wappen/profil/281.png?lm=1467356331'}],\n",
              " 'current': '180,00 mill. €',\n",
              " 'highest': '180,00 mill. €',\n",
              " 'highest_date': '20/06/2023',\n",
              " 'last_change': '27/05/2024',\n",
              " 'details_url': '/erling-haaland/marktwertverlauf/spieler/418560',\n",
              " 'thread': {'url': '', 'thread_title': '', 'count_replies': ''},\n",
              " 'translations': {'market value': 'Valor de mercado',\n",
              "  'team': 'Club',\n",
              "  'age': 'Edad',\n",
              "  'resetZoom': 'Vollansicht',\n",
              "  'current': 'Valor de mercado actual',\n",
              "  'highest': 'Valor más alto',\n",
              "  'thread': 'Al foro de valor de mercado',\n",
              "  'forum': 'Foro',\n",
              "  'details': 'Ver página de valores detallados',\n",
              "  'headline': 'Evolución del valor de mercado',\n",
              "  'lastChange': 'Última revisión'}}"
            ]
          },
          "metadata": {},
          "execution_count": 30
        }
      ]
    },
    {
      "cell_type": "code",
      "source": [
        "response.json().keys()"
      ],
      "metadata": {
        "colab": {
          "base_uri": "https://localhost:8080/"
        },
        "id": "YfR7PO20dgCM",
        "outputId": "4c048307-42ba-498e-a5ed-2e2fbb00ade2"
      },
      "id": "YfR7PO20dgCM",
      "execution_count": 31,
      "outputs": [
        {
          "output_type": "execute_result",
          "data": {
            "text/plain": [
              "dict_keys(['list', 'current', 'highest', 'highest_date', 'last_change', 'details_url', 'thread', 'translations'])"
            ]
          },
          "metadata": {},
          "execution_count": 31
        }
      ]
    },
    {
      "cell_type": "markdown",
      "source": [
        "### 1.2) Using API endpoints."
      ],
      "metadata": {
        "id": "69PiM-2ZID7Z"
      },
      "id": "69PiM-2ZID7Z"
    },
    {
      "cell_type": "markdown",
      "source": [
        "Ok, now that we have some basic regex patterns, let's move on to using API endpoints with curlconverter.com. In section 2.2, this method is develop deeply."
      ],
      "metadata": {
        "id": "6inl582CAjSW"
      },
      "id": "6inl582CAjSW"
    },
    {
      "cell_type": "code",
      "execution_count": 35,
      "outputs": [],
      "source": [
        "api_endpoints = [\n",
        "    f\"marketValueDevelopment/graph/{player_id}\",\n",
        "    f\"transferHistory/list/{player_id}\",\n",
        "    f\"player/{player_id}/performance\"\n",
        "]\n",
        "\n",
        "for endpoint in api_endpoints:\n",
        "    response = requests.get(\n",
        "        'https://www.transfermarkt.us/ceapi/' + endpoint,\n",
        "        headers=headers\n",
        "    ).json()"
      ],
      "metadata": {
        "ExecuteTime": {
          "end_time": "2023-12-17T05:20:45.896153Z",
          "start_time": "2023-12-17T05:20:43.948328Z"
        },
        "id": "fc7ed8d082732dd2"
      },
      "id": "fc7ed8d082732dd2"
    },
    {
      "cell_type": "markdown",
      "source": [
        "## 2) Scrapping data form SofaScore."
      ],
      "metadata": {
        "id": "oxCd0cT_eRkb"
      },
      "id": "oxCd0cT_eRkb"
    },
    {
      "cell_type": "markdown",
      "source": [
        "### 2.1) Using the URL."
      ],
      "metadata": {
        "id": "wZn1qT3AN4Ea"
      },
      "id": "wZn1qT3AN4Ea"
    },
    {
      "cell_type": "markdown",
      "source": [
        "Data from Real Madrid vs Villarreal match will be scrapped played on May 19th."
      ],
      "metadata": {
        "id": "RmzhF0pOF9Fg"
      },
      "id": "RmzhF0pOF9Fg"
    },
    {
      "cell_type": "code",
      "source": [
        "# https://www.sofascore.com/es/real-madrid-villarreal/ugbsEgb   #id:11368619,tab:details"
      ],
      "metadata": {
        "id": "zQxnvOrpgGx7"
      },
      "id": "zQxnvOrpgGx7",
      "execution_count": 40,
      "outputs": []
    },
    {
      "cell_type": "code",
      "execution_count": 41,
      "outputs": [],
      "source": [
        "# response = requests.get(\n",
        "#     'https://www.sofascore.com/arsenal-manchester-city/rsR#10385636',\n",
        "#     headers={'User-Agent': 'Mozilla/5.0'} # you'll be blocked if you don't use some type of user agent\n",
        "#)"
      ],
      "metadata": {
        "id": "3zu1BX6_fnER"
      },
      "id": "3zu1BX6_fnER"
    },
    {
      "cell_type": "markdown",
      "source": [
        "In this case it has not been necessary to introduce our headers. The most important thing is to get that successful status code."
      ],
      "metadata": {
        "id": "t-tlypuZI7mz"
      },
      "id": "t-tlypuZI7mz"
    },
    {
      "cell_type": "code",
      "source": [
        "response = requests.get('https://www.sofascore.com/es/real-madrid-villarreal/ugbsEgb#id:11368619,tab:details')\n",
        "response.status_code"
      ],
      "metadata": {
        "id": "OTHxWWYDg-co",
        "colab": {
          "base_uri": "https://localhost:8080/"
        },
        "outputId": "e8e51571-51c1-48fc-9aee-979d13097af8"
      },
      "id": "OTHxWWYDg-co",
      "execution_count": 2,
      "outputs": [
        {
          "output_type": "execute_result",
          "data": {
            "text/plain": [
              "200"
            ]
          },
          "metadata": {},
          "execution_count": 2
        }
      ]
    },
    {
      "cell_type": "markdown",
      "source": [
        "The code soup = BeautifulSoup(response.text, 'html.parser') uses the BeautifulSoup library to parse the HTML content of an HTTP response."
      ],
      "metadata": {
        "id": "25oZCrFUkAei"
      },
      "id": "25oZCrFUkAei"
    },
    {
      "cell_type": "code",
      "execution_count": 3,
      "outputs": [],
      "source": [
        "soup = BeautifulSoup(response.text, 'html.parser')"
      ],
      "metadata": {
        "id": "5dK3sfe9fnER"
      },
      "id": "5dK3sfe9fnER"
    },
    {
      "cell_type": "markdown",
      "source": [
        "This selects a part of the website that should return a list of the different elements and their nested attributes."
      ],
      "metadata": {
        "id": "5mFox4H5MjG0"
      },
      "id": "5mFox4H5MjG0"
    },
    {
      "cell_type": "code",
      "source": [
        "soup.select('g[cursor=\"pointer\"]')"
      ],
      "metadata": {
        "colab": {
          "base_uri": "https://localhost:8080/"
        },
        "id": "3MYCWpD2Mja1",
        "outputId": "4c78b9bf-9197-473b-c42d-426fdef0d865"
      },
      "id": "3MYCWpD2Mja1",
      "execution_count": 4,
      "outputs": [
        {
          "output_type": "execute_result",
          "data": {
            "text/plain": [
              "[]"
            ]
          },
          "metadata": {},
          "execution_count": 4
        }
      ]
    },
    {
      "cell_type": "markdown",
      "source": [
        "This does not return anything because all the content is been loaded from JavaScript and request doesn´t work with this kind of page."
      ],
      "metadata": {
        "collapsed": false,
        "id": "HwPZIRZFfnER"
      },
      "id": "HwPZIRZFfnER"
    },
    {
      "cell_type": "markdown",
      "source": [
        "### 2.2) Using the API."
      ],
      "metadata": {
        "id": "6ndmAN-pPZFc"
      },
      "id": "6ndmAN-pPZFc"
    },
    {
      "cell_type": "markdown",
      "source": [
        "What we'll do is use the API's they are loading to call that data directly\n",
        "Again, click on Inspect in the page we are interested on and then go to Network. In the `network` tab of the developer tools we can see the API calls they are making.\n"
      ],
      "metadata": {
        "id": "lWdP8_fjHHDl"
      },
      "id": "lWdP8_fjHHDl"
    },
    {
      "cell_type": "markdown",
      "source": [
        "Steps:\n",
        "1. Click on Network and refresh the page.\n",
        "2. Find the API call `shotmap` in the network tab.\n",
        "3. Right click and copy as a cURL (bash).\n",
        "4. Go to curlconverter.com and paste the cURL.\n",
        "5. Copy the python code."
      ],
      "metadata": {
        "collapsed": false,
        "id": "fmvW455afnES"
      },
      "id": "fmvW455afnES"
    },
    {
      "cell_type": "code",
      "source": [
        "cookies = {\n",
        "    '_gcl_au': '1.1.2081927633.1716149495',\n",
        "    '_ga': 'GA1.1.1941725413.1716149497',\n",
        "    'FCCDCF': '%5Bnull%2Cnull%2Cnull%2C%5B%22CP-3IoAP-3IoAEsACBENA1EoAP_gAEPgAA6II3gB5C5ETSFBYH51KIsUYAEHwAAAIsAgAAYBAQABQBKQAIQCAGAAEAhAhCACgAAAIEYBIAEACAAQAAAAAAAAIAAEIAAQAAAIICAAAAAAAABIAAAIAAAAEAAAwCAABAAA0AgEAJIISMgAAAAAAAAAAgAAAAAAAgAAAEhAAAEIAAAAACgAEABAEAAAAAEIABBII3gB5C5ETSFBYHhVIIMUIAERQAAAIsAgAAQBAQAAQBKQAIQCEGAAAAgAACAAAAAAIEQBIAEAAAgAAAAAAAAAIAAEAAAAAAAIICAAAAAAAABAAAAIAAAAAAAAwCAABAAAwQhEAJIASEgAAAAgAAAAAoAAAAAAAgAAAEhAAAEAAAAAAAAAEAAAEAAAAAAAABBIAAA.dnAACAgAAAA%22%2C%222~41.70.89.108.149.211.313.358.415.486.540.621.981.1029.1046.1092.1097.1126.1205.1301.1516.1558.1584.1598.1651.1697.1716.1753.1810.1832.1985.2328.2373.2440.2571.2572.2575.2577.2628.2642.2677.2767.2860.2878.2887.2922.3182.3190.3234.3290.3292.3331.10631~dv.%22%2C%22D59998C3-B901-4C02-BBB2-BDDFE43E2F71%22%5D%5D',\n",
        "    '__qca': 'P0-256114773-1716149503180',\n",
        "    'cto_bundle': 'FoUvXF82R2hvSGRab0ZDaDA2cVBJalB4dm8zNlpJb2VROWw4aW1SaUhSa1ZmQURlV3FuYkd0MGxLT096QlZ6U1pQNjZXS0RBbjRkU2xJeHpyUzBuaFhQYnRuaFBmamFTVHBTN2ZTd0lvTkp2eks5NFRzQ2MyY096aFRPUGgwYmxoRWd0dGU3Um1QZ3ViNnpGWTZZNmlncWw4V21xbXhPSzlJTXFmOWV4RXJvVjdLU1klM0Q',\n",
        "    '__gads': 'ID=5d75f2defa542b67:T=1716149503:RT=1716151368:S=ALNI_MZw9Ix0nE-Z5ANRGCYWN9kD7mdITQ',\n",
        "    '__gpi': 'UID=00000d77dc0a78c4:T=1716149503:RT=1716151368:S=ALNI_MYOwWy2DfRrGHLHTg67ZGbALi6DRw',\n",
        "    '__eoi': 'ID=f8c69ad5d57acdd5:T=1716149504:RT=1716151368:S=AA-AfjbGVbAMiWc-xXla9msMNOPW',\n",
        "    'FCNEC': '%5B%5B%22AKsRol8v_YosFsb-eEuh-Off_X3IiDVmt-cjmf-Kg37lmygsEGbrPYoY50QH3lcrTiu-R0I6uJ8cHB1uaxdu1rnIIQYUW4xbhbodJMZmXKNgDif0Mii9m2Nzkpg9OcBe9HQYJ414g5uoNcDvaXmMieRjOOFm2aRacw%3D%3D%22%5D%5D',\n",
        "    '_ga_QH2YGS7BB4': 'GS1.1.1716149496.1.1.1716151386.0.0.0',\n",
        "    '_ga_3KF4XTPHC4': 'GS1.1.1716149496.1.1.1716151386.57.0.0',\n",
        "    '_ga_HNQ9P9MGZR': 'GS1.1.1716149498.1.1.1716151398.54.0.0',\n",
        "}\n",
        "\n",
        "headers = {\n",
        "    'accept': '*/*',\n",
        "    'accept-language': 'en-US,en;q=0.9',\n",
        "    'cache-control': 'max-age=0',\n",
        "    # 'cookie': '_gcl_au=1.1.2081927633.1716149495; _ga=GA1.1.1941725413.1716149497; FCCDCF=%5Bnull%2Cnull%2Cnull%2C%5B%22CP-3IoAP-3IoAEsACBENA1EoAP_gAEPgAA6II3gB5C5ETSFBYH51KIsUYAEHwAAAIsAgAAYBAQABQBKQAIQCAGAAEAhAhCACgAAAIEYBIAEACAAQAAAAAAAAIAAEIAAQAAAIICAAAAAAAABIAAAIAAAAEAAAwCAABAAA0AgEAJIISMgAAAAAAAAAAgAAAAAAAgAAAEhAAAEIAAAAACgAEABAEAAAAAEIABBII3gB5C5ETSFBYHhVIIMUIAERQAAAIsAgAAQBAQAAQBKQAIQCEGAAAAgAACAAAAAAIEQBIAEAAAgAAAAAAAAAIAAEAAAAAAAIICAAAAAAAABAAAAIAAAAAAAAwCAABAAAwQhEAJIASEgAAAAgAAAAAoAAAAAAAgAAAEhAAAEAAAAAAAAAEAAAEAAAAAAAABBIAAA.dnAACAgAAAA%22%2C%222~41.70.89.108.149.211.313.358.415.486.540.621.981.1029.1046.1092.1097.1126.1205.1301.1516.1558.1584.1598.1651.1697.1716.1753.1810.1832.1985.2328.2373.2440.2571.2572.2575.2577.2628.2642.2677.2767.2860.2878.2887.2922.3182.3190.3234.3290.3292.3331.10631~dv.%22%2C%22D59998C3-B901-4C02-BBB2-BDDFE43E2F71%22%5D%5D; __qca=P0-256114773-1716149503180; cto_bundle=FoUvXF82R2hvSGRab0ZDaDA2cVBJalB4dm8zNlpJb2VROWw4aW1SaUhSa1ZmQURlV3FuYkd0MGxLT096QlZ6U1pQNjZXS0RBbjRkU2xJeHpyUzBuaFhQYnRuaFBmamFTVHBTN2ZTd0lvTkp2eks5NFRzQ2MyY096aFRPUGgwYmxoRWd0dGU3Um1QZ3ViNnpGWTZZNmlncWw4V21xbXhPSzlJTXFmOWV4RXJvVjdLU1klM0Q; __gads=ID=5d75f2defa542b67:T=1716149503:RT=1716151368:S=ALNI_MZw9Ix0nE-Z5ANRGCYWN9kD7mdITQ; __gpi=UID=00000d77dc0a78c4:T=1716149503:RT=1716151368:S=ALNI_MYOwWy2DfRrGHLHTg67ZGbALi6DRw; __eoi=ID=f8c69ad5d57acdd5:T=1716149504:RT=1716151368:S=AA-AfjbGVbAMiWc-xXla9msMNOPW; FCNEC=%5B%5B%22AKsRol8v_YosFsb-eEuh-Off_X3IiDVmt-cjmf-Kg37lmygsEGbrPYoY50QH3lcrTiu-R0I6uJ8cHB1uaxdu1rnIIQYUW4xbhbodJMZmXKNgDif0Mii9m2Nzkpg9OcBe9HQYJ414g5uoNcDvaXmMieRjOOFm2aRacw%3D%3D%22%5D%5D; _ga_QH2YGS7BB4=GS1.1.1716149496.1.1.1716151386.0.0.0; _ga_3KF4XTPHC4=GS1.1.1716149496.1.1.1716151386.57.0.0; _ga_HNQ9P9MGZR=GS1.1.1716149498.1.1.1716151398.54.0.0',\n",
        "    'if-none-match': 'W/\"256303f320\"',\n",
        "    'priority': 'u=1, i',\n",
        "    'referer': 'https://www.sofascore.com/es/real-madrid-villarreal/ugbsEgb',\n",
        "    'sec-ch-ua': '\"Chromium\";v=\"124\", \"Google Chrome\";v=\"124\", \"Not-A.Brand\";v=\"99\"',\n",
        "    'sec-ch-ua-mobile': '?0',\n",
        "    'sec-ch-ua-platform': '\"Windows\"',\n",
        "    'sec-fetch-dest': 'empty',\n",
        "    'sec-fetch-mode': 'cors',\n",
        "    'sec-fetch-site': 'same-origin',\n",
        "    'user-agent': 'Mozilla/5.0 (Windows NT 10.0; Win64; x64) AppleWebKit/537.36 (KHTML, like Gecko) Chrome/124.0.0.0 Safari/537.36',\n",
        "    'x-requested-with': '337e31',\n",
        "}\n",
        "\n",
        "response = requests.get('https://www.sofascore.com/api/v1/event/11368619/shotmap', cookies=cookies, headers=headers)"
      ],
      "metadata": {
        "id": "PLvvcCldmoSm"
      },
      "id": "PLvvcCldmoSm",
      "execution_count": 18,
      "outputs": []
    },
    {
      "cell_type": "code",
      "source": [
        "response.status_code  # Obtenemos un 304,"
      ],
      "metadata": {
        "colab": {
          "base_uri": "https://localhost:8080/"
        },
        "id": "NhGqtb-FnCdY",
        "outputId": "d33b7af0-c1af-46fa-e236-cdbfed7929ea"
      },
      "id": "NhGqtb-FnCdY",
      "execution_count": 23,
      "outputs": [
        {
          "output_type": "execute_result",
          "data": {
            "text/plain": [
              "200"
            ]
          },
          "metadata": {},
          "execution_count": 23
        }
      ]
    },
    {
      "cell_type": "markdown",
      "source": [
        "At first place, it is normal to obtain a status_code= 304, if that's the case, apply:"
      ],
      "metadata": {
        "id": "2Zs-8mO5Lg6K"
      },
      "id": "2Zs-8mO5Lg6K"
    },
    {
      "cell_type": "code",
      "source": [
        "headers['If-Modified-Since'] = 'Tues, 18 Jul 2023 00:00:00 GMT'"
      ],
      "metadata": {
        "id": "_YursbvGL3hD"
      },
      "id": "_YursbvGL3hD",
      "execution_count": 25,
      "outputs": []
    },
    {
      "cell_type": "code",
      "source": [
        "response = requests.get('https://www.sofascore.com/api/v1/event/11368619/shotmap', headers=headers)\n",
        "response"
      ],
      "metadata": {
        "colab": {
          "base_uri": "https://localhost:8080/"
        },
        "id": "j2yW7_zhL5DK",
        "outputId": "b77f2e0a-586b-4a6b-a6dc-50239c6a4585"
      },
      "id": "j2yW7_zhL5DK",
      "execution_count": 24,
      "outputs": [
        {
          "output_type": "execute_result",
          "data": {
            "text/plain": [
              "<Response [200]>"
            ]
          },
          "metadata": {},
          "execution_count": 24
        }
      ]
    },
    {
      "cell_type": "code",
      "source": [
        "response.json()"
      ],
      "metadata": {
        "colab": {
          "base_uri": "https://localhost:8080/"
        },
        "id": "M19t22B3M-mX",
        "outputId": "2d5ba47e-72f4-4086-8eca-e2cbf951cc28"
      },
      "id": "M19t22B3M-mX",
      "execution_count": 26,
      "outputs": [
        {
          "output_type": "execute_result",
          "data": {
            "text/plain": [
              "{'shotmap': [{'player': {'name': 'Bertrand Traoré',\n",
              "    'firstName': '',\n",
              "    'lastName': '',\n",
              "    'slug': 'bertrand-traore',\n",
              "    'shortName': 'B. Traoré',\n",
              "    'position': 'M',\n",
              "    'jerseyNumber': '25',\n",
              "    'userCount': 4965,\n",
              "    'id': 218160,\n",
              "    'fieldTranslations': {'nameTranslation': {'ar': 'برتران تراوري إيزيدور'},\n",
              "     'shortNameTranslation': {'ar': 'ب. ت. إيزيدور'}}},\n",
              "   'isHome': True,\n",
              "   'shotType': 'save',\n",
              "   'situation': 'assisted',\n",
              "   'playerCoordinates': {'x': 9.5, 'y': 69.3, 'z': 0},\n",
              "   'bodyPart': 'left-foot',\n",
              "   'goalMouthLocation': 'low-right',\n",
              "   'goalMouthCoordinates': {'x': 0, 'y': 46, 'z': 3.8},\n",
              "   'blockCoordinates': {'x': 1.5, 'y': 54.2, 'z': 0},\n",
              "   'xg': 0.046590391546488,\n",
              "   'xgot': 0.1969,\n",
              "   'id': 3262267,\n",
              "   'time': 90,\n",
              "   'timeSeconds': 5365,\n",
              "   'draw': {'start': {'x': 69.3, 'y': 9.5},\n",
              "    'block': {'x': 54.2, 'y': 1.5},\n",
              "    'end': {'x': 54, 'y': 0},\n",
              "    'goal': {'x': 54, 'y': 96.2}},\n",
              "   'reversedPeriodTime': 1,\n",
              "   'reversedPeriodTimeSeconds': 35,\n",
              "   'incidentType': 'shot'},\n",
              "  {'player': {'name': 'Alexander Sørloth',\n",
              "    'slug': 'alexander-sorloth',\n",
              "    'shortName': 'A. Sørloth',\n",
              "    'position': 'F',\n",
              "    'jerseyNumber': '11',\n",
              "    'userCount': 6200,\n",
              "    'id': 309078,\n",
              "    'fieldTranslations': {'nameTranslation': {'ar': 'سورلوث, ألكسندر'},\n",
              "     'shortNameTranslation': {'ar': 'أ. سورلوث'}}},\n",
              "   'isHome': True,\n",
              "   'shotType': 'miss',\n",
              "   'situation': 'assisted',\n",
              "   'playerCoordinates': {'x': 8.8, 'y': 52.8, 'z': 0},\n",
              "   'bodyPart': 'head',\n",
              "   'goalMouthLocation': 'left',\n",
              "   'goalMouthCoordinates': {'x': 0, 'y': 95.8, 'z': 6.9},\n",
              "   'xg': 0.07088015973568,\n",
              "   'id': 3262221,\n",
              "   'time': 83,\n",
              "   'timeSeconds': 4922,\n",
              "   'draw': {'start': {'x': 52.8, 'y': 8.8},\n",
              "    'end': {'x': 4.2, 'y': 0},\n",
              "    'goal': {'x': 4.2, 'y': 93.1}},\n",
              "   'reversedPeriodTime': 8,\n",
              "   'reversedPeriodTimeSeconds': 478,\n",
              "   'incidentType': 'shot'},\n",
              "  {'player': {'name': 'Étienne Capoue',\n",
              "    'firstName': '',\n",
              "    'lastName': '',\n",
              "    'slug': 'etienne-capoue',\n",
              "    'shortName': 'É. Capoue',\n",
              "    'position': 'M',\n",
              "    'jerseyNumber': '6',\n",
              "    'userCount': 835,\n",
              "    'id': 16701,\n",
              "    'fieldTranslations': {'nameTranslation': {'ar': 'كابوي, إتيان'},\n",
              "     'shortNameTranslation': {'ar': 'إ. كابوي'}}},\n",
              "   'isHome': True,\n",
              "   'shotType': 'block',\n",
              "   'situation': 'regular',\n",
              "   'playerCoordinates': {'x': 9.7, 'y': 50.3, 'z': 0},\n",
              "   'bodyPart': 'left-foot',\n",
              "   'goalMouthLocation': 'low-centre',\n",
              "   'goalMouthCoordinates': {'x': 0, 'y': 49.4, 'z': 19},\n",
              "   'blockCoordinates': {'x': 7.3, 'y': 50.4, 'z': 0},\n",
              "   'xg': 0.1305751055479,\n",
              "   'id': 3262266,\n",
              "   'time': 82,\n",
              "   'timeSeconds': 4912,\n",
              "   'draw': {'start': {'x': 50.3, 'y': 9.7},\n",
              "    'block': {'x': 50.4, 'y': 7.3},\n",
              "    'end': {'x': 50.6, 'y': 0},\n",
              "    'goal': {'x': 50.6, 'y': 81}},\n",
              "   'reversedPeriodTime': 9,\n",
              "   'reversedPeriodTimeSeconds': 488,\n",
              "   'incidentType': 'shot'},\n",
              "  {'player': {'name': 'Rodrygo',\n",
              "    'firstName': '',\n",
              "    'lastName': '',\n",
              "    'slug': 'rodrygo',\n",
              "    'shortName': 'Rodrygo',\n",
              "    'position': 'F',\n",
              "    'jerseyNumber': '11',\n",
              "    'userCount': 170124,\n",
              "    'id': 910536,\n",
              "    'fieldTranslations': {'nameTranslation': {'ar': 'رودريغو'},\n",
              "     'shortNameTranslation': {'ar': 'رودريغو'}}},\n",
              "   'isHome': False,\n",
              "   'shotType': 'post',\n",
              "   'situation': 'assisted',\n",
              "   'playerCoordinates': {'x': 3.3, 'y': 64.8, 'z': 0},\n",
              "   'bodyPart': 'right-foot',\n",
              "   'goalMouthLocation': 'right',\n",
              "   'goalMouthCoordinates': {'x': 0, 'y': 44.6, 'z': 3.2},\n",
              "   'xg': 0.082880415022373,\n",
              "   'id': 3262202,\n",
              "   'time': 79,\n",
              "   'timeSeconds': 4710,\n",
              "   'draw': {'start': {'x': 64.8, 'y': 3.3},\n",
              "    'end': {'x': 55.4, 'y': 0},\n",
              "    'goal': {'x': 55.4, 'y': 96.8}},\n",
              "   'reversedPeriodTime': 12,\n",
              "   'reversedPeriodTimeSeconds': 690,\n",
              "   'incidentType': 'shot'},\n",
              "  {'player': {'name': 'Bertrand Traoré',\n",
              "    'firstName': '',\n",
              "    'lastName': '',\n",
              "    'slug': 'bertrand-traore',\n",
              "    'shortName': 'B. Traoré',\n",
              "    'position': 'M',\n",
              "    'jerseyNumber': '25',\n",
              "    'userCount': 4965,\n",
              "    'id': 218160,\n",
              "    'fieldTranslations': {'nameTranslation': {'ar': 'برتران تراوري إيزيدور'},\n",
              "     'shortNameTranslation': {'ar': 'ب. ت. إيزيدور'}}},\n",
              "   'isHome': True,\n",
              "   'shotType': 'block',\n",
              "   'situation': 'set-piece',\n",
              "   'playerCoordinates': {'x': 22.6, 'y': 60.1, 'z': 0},\n",
              "   'bodyPart': 'left-foot',\n",
              "   'goalMouthLocation': 'low-left',\n",
              "   'goalMouthCoordinates': {'x': 0, 'y': 52.9, 'z': 19},\n",
              "   'blockCoordinates': {'x': 19.2, 'y': 58.1, 'z': 0},\n",
              "   'xg': 0.023750998079777,\n",
              "   'id': 3262136,\n",
              "   'time': 71,\n",
              "   'timeSeconds': 4204,\n",
              "   'draw': {'start': {'x': 60.1, 'y': 22.6},\n",
              "    'block': {'x': 58.1, 'y': 19.2},\n",
              "    'end': {'x': 47.1, 'y': 0},\n",
              "    'goal': {'x': 47.1, 'y': 81}},\n",
              "   'reversedPeriodTime': 20,\n",
              "   'reversedPeriodTimeSeconds': 1196,\n",
              "   'incidentType': 'shot'},\n",
              "  {'player': {'name': 'Dani Ceballos',\n",
              "    'slug': 'dani-ceballos',\n",
              "    'shortName': 'D. Ceballos',\n",
              "    'position': 'M',\n",
              "    'jerseyNumber': '19',\n",
              "    'userCount': 19512,\n",
              "    'id': 547838,\n",
              "    'fieldTranslations': {'nameTranslation': {'ar': 'سيبالوس, داني'},\n",
              "     'shortNameTranslation': {'ar': 'د. سيبالوس'}}},\n",
              "   'isHome': False,\n",
              "   'shotType': 'block',\n",
              "   'situation': 'assisted',\n",
              "   'playerCoordinates': {'x': 14.2, 'y': 65.2, 'z': 0},\n",
              "   'bodyPart': 'right-foot',\n",
              "   'goalMouthLocation': 'low-left',\n",
              "   'goalMouthCoordinates': {'x': 0, 'y': 51.9, 'z': 19},\n",
              "   'blockCoordinates': {'x': 10.7, 'y': 61, 'z': 0},\n",
              "   'xg': 0.049015305936337,\n",
              "   'id': 3262095,\n",
              "   'time': 64,\n",
              "   'timeSeconds': 3813,\n",
              "   'draw': {'start': {'x': 65.2, 'y': 14.2},\n",
              "    'block': {'x': 61, 'y': 10.7},\n",
              "    'end': {'x': 48.1, 'y': 0},\n",
              "    'goal': {'x': 48.1, 'y': 81}},\n",
              "   'reversedPeriodTime': 27,\n",
              "   'reversedPeriodTimeSeconds': 1587,\n",
              "   'incidentType': 'shot'},\n",
              "  {'player': {'name': 'Arda Güler',\n",
              "    'firstName': 'Arda Guler',\n",
              "    'slug': 'arda-guler',\n",
              "    'shortName': 'A. Güler',\n",
              "    'position': 'M',\n",
              "    'jerseyNumber': '24',\n",
              "    'userCount': 116478,\n",
              "    'id': 1091116,\n",
              "    'fieldTranslations': {'nameTranslation': {'ar': 'غولر، أردا'},\n",
              "     'shortNameTranslation': {'ar': 'غ. أردا'}}},\n",
              "   'isHome': False,\n",
              "   'shotType': 'miss',\n",
              "   'situation': 'assisted',\n",
              "   'playerCoordinates': {'x': 15.7, 'y': 70.9, 'z': 0},\n",
              "   'bodyPart': 'left-foot',\n",
              "   'goalMouthLocation': 'high-left',\n",
              "   'goalMouthCoordinates': {'x': 0, 'y': 59.7, 'z': 54.2},\n",
              "   'xg': 0.045607589185238,\n",
              "   'id': 3262085,\n",
              "   'time': 63,\n",
              "   'timeSeconds': 3753,\n",
              "   'draw': {'start': {'x': 70.9, 'y': 15.7},\n",
              "    'end': {'x': 40.3, 'y': 0},\n",
              "    'goal': {'x': 40.3, 'y': 45.8}},\n",
              "   'reversedPeriodTime': 28,\n",
              "   'reversedPeriodTimeSeconds': 1647,\n",
              "   'incidentType': 'shot'},\n",
              "  {'player': {'name': 'Gonçalo Guedes',\n",
              "    'firstName': '',\n",
              "    'lastName': '',\n",
              "    'slug': 'goncalo-guedes',\n",
              "    'shortName': 'G. Guedes',\n",
              "    'position': 'F',\n",
              "    'jerseyNumber': '9',\n",
              "    'userCount': 4098,\n",
              "    'id': 280979,\n",
              "    'fieldTranslations': {'nameTranslation': {'ar': 'جيديس, جونكالو'},\n",
              "     'shortNameTranslation': {'ar': 'ج. جيديس'}}},\n",
              "   'isHome': True,\n",
              "   'shotType': 'miss',\n",
              "   'situation': 'regular',\n",
              "   'playerCoordinates': {'x': 21.2, 'y': 28.9, 'z': 0},\n",
              "   'bodyPart': 'right-foot',\n",
              "   'goalMouthLocation': 'right',\n",
              "   'goalMouthCoordinates': {'x': 0, 'y': 0.3, 'z': 5.6},\n",
              "   'blockCoordinates': {'x': 18.9, 'y': 46.2, 'z': 0},\n",
              "   'xg': 0.012861144728959,\n",
              "   'id': 3262112,\n",
              "   'time': 58,\n",
              "   'timeSeconds': 3441,\n",
              "   'draw': {'start': {'x': 28.9, 'y': 21.2},\n",
              "    'block': {'x': 46.2, 'y': 18.9},\n",
              "    'end': {'x': 99.7, 'y': 0},\n",
              "    'goal': {'x': 99.7, 'y': 94.4}},\n",
              "   'reversedPeriodTime': 33,\n",
              "   'reversedPeriodTimeSeconds': 1959,\n",
              "   'incidentType': 'shot'},\n",
              "  {'player': {'name': 'Alexander Sørloth',\n",
              "    'slug': 'alexander-sorloth',\n",
              "    'shortName': 'A. Sørloth',\n",
              "    'position': 'F',\n",
              "    'jerseyNumber': '11',\n",
              "    'userCount': 6200,\n",
              "    'id': 309078,\n",
              "    'fieldTranslations': {'nameTranslation': {'ar': 'سورلوث, ألكسندر'},\n",
              "     'shortNameTranslation': {'ar': 'أ. سورلوث'}}},\n",
              "   'isHome': True,\n",
              "   'shotType': 'goal',\n",
              "   'goalType': 'regular',\n",
              "   'situation': 'fast-break',\n",
              "   'playerCoordinates': {'x': 10.2, 'y': 44.1, 'z': 0},\n",
              "   'bodyPart': 'left-foot',\n",
              "   'goalMouthLocation': 'low-right',\n",
              "   'goalMouthCoordinates': {'x': 0, 'y': 46.6, 'z': 6.3},\n",
              "   'xg': 0.14794005453587,\n",
              "   'xgot': 0.8968,\n",
              "   'id': 3262051,\n",
              "   'time': 56,\n",
              "   'timeSeconds': 3356,\n",
              "   'draw': {'start': {'x': 44.1, 'y': 10.2},\n",
              "    'end': {'x': 53.4, 'y': 0},\n",
              "    'goal': {'x': 53.4, 'y': 93.7}},\n",
              "   'reversedPeriodTime': 35,\n",
              "   'reversedPeriodTimeSeconds': 2044,\n",
              "   'incidentType': 'shot'},\n",
              "  {'player': {'name': 'Alexander Sørloth',\n",
              "    'slug': 'alexander-sorloth',\n",
              "    'shortName': 'A. Sørloth',\n",
              "    'position': 'F',\n",
              "    'jerseyNumber': '11',\n",
              "    'userCount': 6200,\n",
              "    'id': 309078,\n",
              "    'fieldTranslations': {'nameTranslation': {'ar': 'سورلوث, ألكسندر'},\n",
              "     'shortNameTranslation': {'ar': 'أ. سورلوث'}}},\n",
              "   'isHome': True,\n",
              "   'shotType': 'miss',\n",
              "   'situation': 'assisted',\n",
              "   'playerCoordinates': {'x': 12.5, 'y': 47.9, 'z': 0},\n",
              "   'bodyPart': 'head',\n",
              "   'goalMouthLocation': 'right',\n",
              "   'goalMouthCoordinates': {'x': 0, 'y': 36.8, 'z': 12.5},\n",
              "   'xg': 0.054313629865646,\n",
              "   'id': 3262036,\n",
              "   'time': 54,\n",
              "   'timeSeconds': 3219,\n",
              "   'draw': {'start': {'x': 47.9, 'y': 12.5},\n",
              "    'end': {'x': 63.2, 'y': 0},\n",
              "    'goal': {'x': 63.2, 'y': 87.5}},\n",
              "   'reversedPeriodTime': 37,\n",
              "   'reversedPeriodTimeSeconds': 2181,\n",
              "   'incidentType': 'shot'},\n",
              "  {'player': {'name': 'Alexander Sørloth',\n",
              "    'slug': 'alexander-sorloth',\n",
              "    'shortName': 'A. Sørloth',\n",
              "    'position': 'F',\n",
              "    'jerseyNumber': '11',\n",
              "    'userCount': 6200,\n",
              "    'id': 309078,\n",
              "    'fieldTranslations': {'nameTranslation': {'ar': 'سورلوث, ألكسندر'},\n",
              "     'shortNameTranslation': {'ar': 'أ. سورلوث'}}},\n",
              "   'isHome': True,\n",
              "   'shotType': 'goal',\n",
              "   'goalType': 'regular',\n",
              "   'situation': 'regular',\n",
              "   'playerCoordinates': {'x': 9.4, 'y': 55.5, 'z': 0},\n",
              "   'bodyPart': 'left-foot',\n",
              "   'goalMouthLocation': 'low-left',\n",
              "   'goalMouthCoordinates': {'x': 0, 'y': 52, 'z': 4.4},\n",
              "   'xg': 0.62197232246399,\n",
              "   'xgot': 0.7748,\n",
              "   'id': 3262034,\n",
              "   'time': 52,\n",
              "   'timeSeconds': 3107,\n",
              "   'draw': {'start': {'x': 55.5, 'y': 9.4},\n",
              "    'end': {'x': 48, 'y': 0},\n",
              "    'goal': {'x': 48, 'y': 95.6}},\n",
              "   'reversedPeriodTime': 39,\n",
              "   'reversedPeriodTimeSeconds': 2293,\n",
              "   'incidentType': 'shot'},\n",
              "  {'player': {'name': 'Alexander Sørloth',\n",
              "    'slug': 'alexander-sorloth',\n",
              "    'shortName': 'A. Sørloth',\n",
              "    'position': 'F',\n",
              "    'jerseyNumber': '11',\n",
              "    'userCount': 6200,\n",
              "    'id': 309078,\n",
              "    'fieldTranslations': {'nameTranslation': {'ar': 'سورلوث, ألكسندر'},\n",
              "     'shortNameTranslation': {'ar': 'أ. سورلوث'}}},\n",
              "   'isHome': True,\n",
              "   'shotType': 'block',\n",
              "   'situation': 'assisted',\n",
              "   'playerCoordinates': {'x': 14.4, 'y': 60.1, 'z': 0},\n",
              "   'bodyPart': 'right-foot',\n",
              "   'goalMouthLocation': 'low-centre',\n",
              "   'goalMouthCoordinates': {'x': 0, 'y': 51.2, 'z': 19},\n",
              "   'blockCoordinates': {'x': 12.8, 'y': 58.8, 'z': 0},\n",
              "   'xg': 0.045529566705227,\n",
              "   'id': 3262033,\n",
              "   'time': 52,\n",
              "   'timeSeconds': 3104,\n",
              "   'draw': {'start': {'x': 60.1, 'y': 14.4},\n",
              "    'block': {'x': 58.8, 'y': 12.8},\n",
              "    'end': {'x': 48.8, 'y': 0},\n",
              "    'goal': {'x': 48.8, 'y': 81}},\n",
              "   'reversedPeriodTime': 39,\n",
              "   'reversedPeriodTimeSeconds': 2296,\n",
              "   'incidentType': 'shot'},\n",
              "  {'player': {'name': 'Luka Modrić',\n",
              "    'slug': 'luka-modric',\n",
              "    'shortName': 'L. Modrić',\n",
              "    'position': 'M',\n",
              "    'jerseyNumber': '10',\n",
              "    'userCount': 171396,\n",
              "    'id': 15466,\n",
              "    'fieldTranslations': {'nameTranslation': {'ar': 'مودريتش, لوكا'},\n",
              "     'shortNameTranslation': {'ar': 'ل. مودريتش'}}},\n",
              "   'isHome': False,\n",
              "   'shotType': 'miss',\n",
              "   'situation': 'assisted',\n",
              "   'playerCoordinates': {'x': 22.6, 'y': 63.4, 'z': 0},\n",
              "   'bodyPart': 'right-foot',\n",
              "   'goalMouthLocation': 'close-left',\n",
              "   'goalMouthCoordinates': {'x': 0, 'y': 58.5, 'z': 9.7},\n",
              "   'xg': 0.035995174199343,\n",
              "   'id': 3262013,\n",
              "   'time': 50,\n",
              "   'timeSeconds': 2980,\n",
              "   'draw': {'start': {'x': 63.4, 'y': 22.6},\n",
              "    'end': {'x': 41.5, 'y': 0},\n",
              "    'goal': {'x': 41.5, 'y': 90.3}},\n",
              "   'reversedPeriodTime': 41,\n",
              "   'reversedPeriodTimeSeconds': 2420,\n",
              "   'incidentType': 'shot'},\n",
              "  {'player': {'name': 'Alexander Sørloth',\n",
              "    'slug': 'alexander-sorloth',\n",
              "    'shortName': 'A. Sørloth',\n",
              "    'position': 'F',\n",
              "    'jerseyNumber': '11',\n",
              "    'userCount': 6200,\n",
              "    'id': 309078,\n",
              "    'fieldTranslations': {'nameTranslation': {'ar': 'سورلوث, ألكسندر'},\n",
              "     'shortNameTranslation': {'ar': 'أ. سورلوث'}}},\n",
              "   'isHome': True,\n",
              "   'shotType': 'goal',\n",
              "   'goalType': 'regular',\n",
              "   'situation': 'assisted',\n",
              "   'playerCoordinates': {'x': 8.1, 'y': 48.8, 'z': 0},\n",
              "   'bodyPart': 'head',\n",
              "   'goalMouthLocation': 'low-left',\n",
              "   'goalMouthCoordinates': {'x': 0, 'y': 53.8, 'z': 9.5},\n",
              "   'xg': 0.094280317425728,\n",
              "   'xgot': 0.6728,\n",
              "   'id': 3262005,\n",
              "   'time': 48,\n",
              "   'timeSeconds': 2829,\n",
              "   'draw': {'start': {'x': 48.8, 'y': 8.1},\n",
              "    'end': {'x': 46.2, 'y': 0},\n",
              "    'goal': {'x': 46.2, 'y': 90.5}},\n",
              "   'reversedPeriodTime': 43,\n",
              "   'reversedPeriodTimeSeconds': 2571,\n",
              "   'incidentType': 'shot'},\n",
              "  {'player': {'name': 'Alexander Sørloth',\n",
              "    'slug': 'alexander-sorloth',\n",
              "    'shortName': 'A. Sørloth',\n",
              "    'position': 'F',\n",
              "    'jerseyNumber': '11',\n",
              "    'userCount': 6200,\n",
              "    'id': 309078,\n",
              "    'fieldTranslations': {'nameTranslation': {'ar': 'سورلوث, ألكسندر'},\n",
              "     'shortNameTranslation': {'ar': 'أ. سورلوث'}}},\n",
              "   'isHome': True,\n",
              "   'shotType': 'block',\n",
              "   'situation': 'assisted',\n",
              "   'playerCoordinates': {'x': 15.2, 'y': 59.4, 'z': 0},\n",
              "   'bodyPart': 'right-foot',\n",
              "   'goalMouthLocation': 'low-centre',\n",
              "   'goalMouthCoordinates': {'x': 0, 'y': 49.3, 'z': 19},\n",
              "   'blockCoordinates': {'x': 12.7, 'y': 57.9, 'z': 0},\n",
              "   'xg': 0.045447301119566,\n",
              "   'id': 3261937,\n",
              "   'time': 45,\n",
              "   'addedTime': 4,\n",
              "   'timeSeconds': 2902,\n",
              "   'draw': {'start': {'x': 59.4, 'y': 15.2},\n",
              "    'block': {'x': 57.9, 'y': 12.7},\n",
              "    'end': {'x': 50.7, 'y': 0},\n",
              "    'goal': {'x': 50.7, 'y': 81}},\n",
              "   'reversedPeriodTime': 1,\n",
              "   'reversedPeriodTimeSeconds': 2498,\n",
              "   'incidentType': 'shot'},\n",
              "  {'player': {'name': 'Arda Güler',\n",
              "    'firstName': 'Arda Guler',\n",
              "    'slug': 'arda-guler',\n",
              "    'shortName': 'A. Güler',\n",
              "    'position': 'M',\n",
              "    'jerseyNumber': '24',\n",
              "    'userCount': 116478,\n",
              "    'id': 1091116,\n",
              "    'fieldTranslations': {'nameTranslation': {'ar': 'غولر، أردا'},\n",
              "     'shortNameTranslation': {'ar': 'غ. أردا'}}},\n",
              "   'isHome': False,\n",
              "   'shotType': 'goal',\n",
              "   'goalType': 'regular',\n",
              "   'situation': 'assisted',\n",
              "   'playerCoordinates': {'x': 5.6, 'y': 64.2, 'z': 0},\n",
              "   'bodyPart': 'left-foot',\n",
              "   'goalMouthLocation': 'low-left',\n",
              "   'goalMouthCoordinates': {'x': 0, 'y': 52.3, 'z': 11.4},\n",
              "   'xg': 0.12596030533314,\n",
              "   'xgot': 0.4392,\n",
              "   'id': 3261930,\n",
              "   'time': 45,\n",
              "   'addedTime': 2,\n",
              "   'timeSeconds': 2800,\n",
              "   'draw': {'start': {'x': 64.2, 'y': 5.6},\n",
              "    'end': {'x': 47.7, 'y': 0},\n",
              "    'goal': {'x': 47.7, 'y': 88.6}},\n",
              "   'reversedPeriodTime': 1,\n",
              "   'reversedPeriodTimeSeconds': 2600,\n",
              "   'incidentType': 'shot'},\n",
              "  {'player': {'name': 'Antonio Rüdiger',\n",
              "    'slug': 'antonio-rudiger',\n",
              "    'shortName': 'A. Rüdiger',\n",
              "    'position': 'D',\n",
              "    'jerseyNumber': '22',\n",
              "    'userCount': 44920,\n",
              "    'id': 142622,\n",
              "    'fieldTranslations': {'nameTranslation': {'ar': 'روديغر, أنطونيو'},\n",
              "     'shortNameTranslation': {'ar': 'أ. روديغر'}}},\n",
              "   'isHome': False,\n",
              "   'shotType': 'miss',\n",
              "   'situation': 'corner',\n",
              "   'playerCoordinates': {'x': 13.1, 'y': 49.5, 'z': 0},\n",
              "   'bodyPart': 'head',\n",
              "   'goalMouthLocation': 'high',\n",
              "   'goalMouthCoordinates': {'x': 0, 'y': 51.3, 'z': 62.5},\n",
              "   'xg': 0.015524251386523,\n",
              "   'id': 3261904,\n",
              "   'time': 44,\n",
              "   'timeSeconds': 2635,\n",
              "   'draw': {'start': {'x': 49.5, 'y': 13.1},\n",
              "    'end': {'x': 48.7, 'y': 0},\n",
              "    'goal': {'x': 48.7, 'y': 37.5}},\n",
              "   'reversedPeriodTime': 2,\n",
              "   'reversedPeriodTimeSeconds': 65,\n",
              "   'incidentType': 'shot'},\n",
              "  {'player': {'name': 'Santi Comesaña',\n",
              "    'firstName': '',\n",
              "    'lastName': '',\n",
              "    'slug': 'santi-comesana',\n",
              "    'shortName': 'S. Comesaña',\n",
              "    'position': 'M',\n",
              "    'jerseyNumber': '4',\n",
              "    'userCount': 517,\n",
              "    'id': 843678,\n",
              "    'fieldTranslations': {'nameTranslation': {'ar': 'كوميسانا ، سانتي'},\n",
              "     'shortNameTranslation': {'ar': 'ك. ، سانتي'}}},\n",
              "   'isHome': True,\n",
              "   'shotType': 'miss',\n",
              "   'situation': 'assisted',\n",
              "   'playerCoordinates': {'x': 8.6, 'y': 52.5, 'z': 0},\n",
              "   'bodyPart': 'head',\n",
              "   'goalMouthLocation': 'left',\n",
              "   'goalMouthCoordinates': {'x': 0, 'y': 91.9, 'z': 23.6},\n",
              "   'blockCoordinates': {'x': 4.9, 'y': 13, 'z': 0},\n",
              "   'xg': 0.083018884062767,\n",
              "   'id': 3261896,\n",
              "   'time': 43,\n",
              "   'timeSeconds': 2527,\n",
              "   'draw': {'start': {'x': 52.5, 'y': 8.6},\n",
              "    'block': {'x': 13, 'y': 4.9},\n",
              "    'end': {'x': 8.1, 'y': 0},\n",
              "    'goal': {'x': 8.1, 'y': 76.4}},\n",
              "   'reversedPeriodTime': 3,\n",
              "   'reversedPeriodTimeSeconds': 173,\n",
              "   'incidentType': 'shot'},\n",
              "  {'player': {'name': 'Lucas Vázquez',\n",
              "    'firstName': '',\n",
              "    'lastName': '',\n",
              "    'slug': 'lucas-vazquez',\n",
              "    'shortName': 'L. Vázquez',\n",
              "    'position': 'D',\n",
              "    'jerseyNumber': '17',\n",
              "    'userCount': 21303,\n",
              "    'id': 255239,\n",
              "    'fieldTranslations': {'nameTranslation': {'ar': 'فاسكويز, لوكاس'},\n",
              "     'shortNameTranslation': {'ar': 'ل. فاسكويز'}}},\n",
              "   'isHome': False,\n",
              "   'shotType': 'goal',\n",
              "   'goalType': 'regular',\n",
              "   'situation': 'assisted',\n",
              "   'playerCoordinates': {'x': 10.8, 'y': 42.9, 'z': 0},\n",
              "   'bodyPart': 'left-foot',\n",
              "   'goalMouthLocation': 'low-right',\n",
              "   'goalMouthCoordinates': {'x': 0, 'y': 47.4, 'z': 6.3},\n",
              "   'xg': 0.15396870672703,\n",
              "   'xgot': 0.2732,\n",
              "   'id': 3261887,\n",
              "   'time': 40,\n",
              "   'timeSeconds': 2393,\n",
              "   'draw': {'start': {'x': 42.9, 'y': 10.8},\n",
              "    'end': {'x': 52.6, 'y': 0},\n",
              "    'goal': {'x': 52.6, 'y': 93.7}},\n",
              "   'reversedPeriodTime': 6,\n",
              "   'reversedPeriodTimeSeconds': 307,\n",
              "   'incidentType': 'shot'},\n",
              "  {'player': {'name': 'Alexander Sørloth',\n",
              "    'slug': 'alexander-sorloth',\n",
              "    'shortName': 'A. Sørloth',\n",
              "    'position': 'F',\n",
              "    'jerseyNumber': '11',\n",
              "    'userCount': 6200,\n",
              "    'id': 309078,\n",
              "    'fieldTranslations': {'nameTranslation': {'ar': 'سورلوث, ألكسندر'},\n",
              "     'shortNameTranslation': {'ar': 'أ. سورلوث'}}},\n",
              "   'isHome': True,\n",
              "   'shotType': 'goal',\n",
              "   'goalType': 'regular',\n",
              "   'situation': 'assisted',\n",
              "   'playerCoordinates': {'x': 9.2, 'y': 50.7, 'z': 0},\n",
              "   'bodyPart': 'head',\n",
              "   'goalMouthLocation': 'low-left',\n",
              "   'goalMouthCoordinates': {'x': 0, 'y': 53.2, 'z': 7},\n",
              "   'xg': 0.083002038300037,\n",
              "   'xgot': 0.2418,\n",
              "   'id': 3261876,\n",
              "   'time': 39,\n",
              "   'timeSeconds': 2297,\n",
              "   'draw': {'start': {'x': 50.7, 'y': 9.2},\n",
              "    'end': {'x': 46.8, 'y': 0},\n",
              "    'goal': {'x': 46.8, 'y': 93}},\n",
              "   'reversedPeriodTime': 7,\n",
              "   'reversedPeriodTimeSeconds': 403,\n",
              "   'incidentType': 'shot'},\n",
              "  {'player': {'name': 'Joselu',\n",
              "    'slug': 'joselu',\n",
              "    'shortName': 'Joselu',\n",
              "    'position': 'F',\n",
              "    'jerseyNumber': '14',\n",
              "    'userCount': 26844,\n",
              "    'id': 69418,\n",
              "    'fieldTranslations': {'nameTranslation': {'ar': 'خوسيلو'},\n",
              "     'shortNameTranslation': {'ar': 'خوسيلو'}}},\n",
              "   'isHome': False,\n",
              "   'shotType': 'goal',\n",
              "   'goalType': 'regular',\n",
              "   'situation': 'assisted',\n",
              "   'playerCoordinates': {'x': 4.2, 'y': 57.1, 'z': 0},\n",
              "   'bodyPart': 'head',\n",
              "   'goalMouthLocation': 'high-centre',\n",
              "   'goalMouthCoordinates': {'x': 0, 'y': 51, 'z': 22.2},\n",
              "   'xg': 0.27420902252197,\n",
              "   'xgot': 0.3419,\n",
              "   'id': 3261828,\n",
              "   'time': 30,\n",
              "   'timeSeconds': 1781,\n",
              "   'draw': {'start': {'x': 57.1, 'y': 4.2},\n",
              "    'end': {'x': 49, 'y': 0},\n",
              "    'goal': {'x': 49, 'y': 77.8}},\n",
              "   'reversedPeriodTime': 16,\n",
              "   'reversedPeriodTimeSeconds': 919,\n",
              "   'incidentType': 'shot'},\n",
              "  {'player': {'name': 'Yerson Mosquera',\n",
              "    'slug': 'yerson-mosquera',\n",
              "    'shortName': 'Y. Mosquera',\n",
              "    'position': 'D',\n",
              "    'jerseyNumber': '2',\n",
              "    'userCount': 1045,\n",
              "    'id': 1014835,\n",
              "    'fieldTranslations': {'nameTranslation': {'ar': 'موسكيرا ، يرسون'},\n",
              "     'shortNameTranslation': {'ar': 'م. ، يرسون'}}},\n",
              "   'isHome': True,\n",
              "   'shotType': 'save',\n",
              "   'situation': 'corner',\n",
              "   'playerCoordinates': {'x': 4.8, 'y': 43.3, 'z': 0},\n",
              "   'bodyPart': 'head',\n",
              "   'goalMouthLocation': 'low-left',\n",
              "   'goalMouthCoordinates': {'x': 0, 'y': 53.2, 'z': 7.6},\n",
              "   'blockCoordinates': {'x': 0.7, 'y': 49.3, 'z': 0},\n",
              "   'xg': 0.092171043157578,\n",
              "   'xgot': 0.2057,\n",
              "   'id': 3261802,\n",
              "   'time': 23,\n",
              "   'timeSeconds': 1379,\n",
              "   'draw': {'start': {'x': 43.3, 'y': 4.8},\n",
              "    'block': {'x': 49.3, 'y': 0.7},\n",
              "    'end': {'x': 46.8, 'y': 0},\n",
              "    'goal': {'x': 46.8, 'y': 92.4}},\n",
              "   'reversedPeriodTime': 23,\n",
              "   'reversedPeriodTimeSeconds': 1321,\n",
              "   'incidentType': 'shot'},\n",
              "  {'player': {'name': 'Gonçalo Guedes',\n",
              "    'firstName': '',\n",
              "    'lastName': '',\n",
              "    'slug': 'goncalo-guedes',\n",
              "    'shortName': 'G. Guedes',\n",
              "    'position': 'F',\n",
              "    'jerseyNumber': '9',\n",
              "    'userCount': 4098,\n",
              "    'id': 280979,\n",
              "    'fieldTranslations': {'nameTranslation': {'ar': 'جيديس, جونكالو'},\n",
              "     'shortNameTranslation': {'ar': 'ج. جيديس'}}},\n",
              "   'isHome': True,\n",
              "   'shotType': 'block',\n",
              "   'situation': 'assisted',\n",
              "   'playerCoordinates': {'x': 15.1, 'y': 44.8, 'z': 0},\n",
              "   'bodyPart': 'right-foot',\n",
              "   'goalMouthLocation': 'low-centre',\n",
              "   'goalMouthCoordinates': {'x': 0, 'y': 49.5, 'z': 19},\n",
              "   'blockCoordinates': {'x': 12.8, 'y': 45.7, 'z': 0},\n",
              "   'xg': 0.041075795888901,\n",
              "   'id': 3261798,\n",
              "   'time': 23,\n",
              "   'timeSeconds': 1351,\n",
              "   'draw': {'start': {'x': 44.8, 'y': 15.1},\n",
              "    'block': {'x': 45.7, 'y': 12.8},\n",
              "    'end': {'x': 50.5, 'y': 0},\n",
              "    'goal': {'x': 50.5, 'y': 81}},\n",
              "   'reversedPeriodTime': 23,\n",
              "   'reversedPeriodTimeSeconds': 1349,\n",
              "   'incidentType': 'shot'},\n",
              "  {'player': {'name': 'Ilias Akhomach',\n",
              "    'firstName': '',\n",
              "    'lastName': '',\n",
              "    'slug': 'ilias-akhomach',\n",
              "    'shortName': 'I. Akhomach',\n",
              "    'position': 'M',\n",
              "    'jerseyNumber': '27',\n",
              "    'userCount': 6177,\n",
              "    'id': 1089108,\n",
              "    'fieldTranslations': {'nameTranslation': {'ar': 'الياس اخوماش'},\n",
              "     'shortNameTranslation': {'ar': 'ا. اخوماش'}}},\n",
              "   'isHome': True,\n",
              "   'shotType': 'miss',\n",
              "   'situation': 'assisted',\n",
              "   'playerCoordinates': {'x': 14.2, 'y': 70.9, 'z': 0},\n",
              "   'bodyPart': 'left-foot',\n",
              "   'goalMouthLocation': 'high-left',\n",
              "   'goalMouthCoordinates': {'x': 0, 'y': 73.9, 'z': 58.3},\n",
              "   'xg': 0.033431779593229,\n",
              "   'id': 3261785,\n",
              "   'time': 20,\n",
              "   'timeSeconds': 1152,\n",
              "   'draw': {'start': {'x': 70.9, 'y': 14.2},\n",
              "    'end': {'x': 26.1, 'y': 0},\n",
              "    'goal': {'x': 26.1, 'y': 41.7}},\n",
              "   'reversedPeriodTime': 26,\n",
              "   'reversedPeriodTimeSeconds': 1548,\n",
              "   'incidentType': 'shot'},\n",
              "  {'player': {'name': 'Brahim Díaz',\n",
              "    'slug': 'brahim-diaz',\n",
              "    'shortName': 'B. Díaz',\n",
              "    'position': 'M',\n",
              "    'jerseyNumber': '21',\n",
              "    'userCount': 54020,\n",
              "    'id': 835485,\n",
              "    'fieldTranslations': {'nameTranslation': {'ar': 'دياز, إبراهيم'},\n",
              "     'shortNameTranslation': {'ar': 'إ. دياز'}}},\n",
              "   'isHome': False,\n",
              "   'shotType': 'save',\n",
              "   'situation': 'assisted',\n",
              "   'playerCoordinates': {'x': 24, 'y': 51.5, 'z': 0},\n",
              "   'bodyPart': 'right-foot',\n",
              "   'goalMouthLocation': 'low-centre',\n",
              "   'goalMouthCoordinates': {'x': 0, 'y': 51.6, 'z': 14.6},\n",
              "   'blockCoordinates': {'x': 2.7, 'y': 50, 'z': 0},\n",
              "   'xg': 0.051028560847044,\n",
              "   'xgot': 0.0469,\n",
              "   'id': 3261778,\n",
              "   'time': 18,\n",
              "   'timeSeconds': 1073,\n",
              "   'draw': {'start': {'x': 51.5, 'y': 24},\n",
              "    'block': {'x': 50, 'y': 2.7},\n",
              "    'end': {'x': 48.4, 'y': 0},\n",
              "    'goal': {'x': 48.4, 'y': 85.4}},\n",
              "   'reversedPeriodTime': 28,\n",
              "   'reversedPeriodTimeSeconds': 1627,\n",
              "   'incidentType': 'shot'},\n",
              "  {'player': {'name': 'Santi Comesaña',\n",
              "    'firstName': '',\n",
              "    'lastName': '',\n",
              "    'slug': 'santi-comesana',\n",
              "    'shortName': 'S. Comesaña',\n",
              "    'position': 'M',\n",
              "    'jerseyNumber': '4',\n",
              "    'userCount': 517,\n",
              "    'id': 843678,\n",
              "    'fieldTranslations': {'nameTranslation': {'ar': 'كوميسانا ، سانتي'},\n",
              "     'shortNameTranslation': {'ar': 'ك. ، سانتي'}}},\n",
              "   'isHome': True,\n",
              "   'shotType': 'save',\n",
              "   'situation': 'assisted',\n",
              "   'playerCoordinates': {'x': 11.4, 'y': 60.1, 'z': 0},\n",
              "   'bodyPart': 'head',\n",
              "   'goalMouthLocation': 'low-left',\n",
              "   'goalMouthCoordinates': {'x': 0, 'y': 52.2, 'z': 6.3},\n",
              "   'blockCoordinates': {'x': 1.4, 'y': 52.5, 'z': 0},\n",
              "   'xg': 0.036400023847818,\n",
              "   'xgot': 0.1169,\n",
              "   'id': 3261773,\n",
              "   'time': 18,\n",
              "   'timeSeconds': 1038,\n",
              "   'draw': {'start': {'x': 60.1, 'y': 11.4},\n",
              "    'block': {'x': 52.5, 'y': 1.4},\n",
              "    'end': {'x': 47.8, 'y': 0},\n",
              "    'goal': {'x': 47.8, 'y': 93.7}},\n",
              "   'reversedPeriodTime': 28,\n",
              "   'reversedPeriodTimeSeconds': 1662,\n",
              "   'incidentType': 'shot'},\n",
              "  {'player': {'name': 'Arda Güler',\n",
              "    'firstName': 'Arda Guler',\n",
              "    'slug': 'arda-guler',\n",
              "    'shortName': 'A. Güler',\n",
              "    'position': 'M',\n",
              "    'jerseyNumber': '24',\n",
              "    'userCount': 116478,\n",
              "    'id': 1091116,\n",
              "    'fieldTranslations': {'nameTranslation': {'ar': 'غولر، أردا'},\n",
              "     'shortNameTranslation': {'ar': 'غ. أردا'}}},\n",
              "   'isHome': False,\n",
              "   'shotType': 'goal',\n",
              "   'goalType': 'regular',\n",
              "   'situation': 'assisted',\n",
              "   'playerCoordinates': {'x': 12.6, 'y': 45.1, 'z': 0},\n",
              "   'bodyPart': 'left-foot',\n",
              "   'goalMouthLocation': 'low-right',\n",
              "   'goalMouthCoordinates': {'x': 0, 'y': 46.6, 'z': 5.7},\n",
              "   'xg': 0.18070121109486,\n",
              "   'xgot': 0.7154,\n",
              "   'id': 3261756,\n",
              "   'time': 14,\n",
              "   'timeSeconds': 833,\n",
              "   'draw': {'start': {'x': 45.1, 'y': 12.6},\n",
              "    'end': {'x': 53.4, 'y': 0},\n",
              "    'goal': {'x': 53.4, 'y': 94.3}},\n",
              "   'reversedPeriodTime': 32,\n",
              "   'reversedPeriodTimeSeconds': 1867,\n",
              "   'incidentType': 'shot'},\n",
              "  {'player': {'name': 'Arda Güler',\n",
              "    'firstName': 'Arda Guler',\n",
              "    'slug': 'arda-guler',\n",
              "    'shortName': 'A. Güler',\n",
              "    'position': 'M',\n",
              "    'jerseyNumber': '24',\n",
              "    'userCount': 116478,\n",
              "    'id': 1091116,\n",
              "    'fieldTranslations': {'nameTranslation': {'ar': 'غولر، أردا'},\n",
              "     'shortNameTranslation': {'ar': 'غ. أردا'}}},\n",
              "   'isHome': False,\n",
              "   'shotType': 'block',\n",
              "   'situation': 'corner',\n",
              "   'playerCoordinates': {'x': 26.7, 'y': 66.3, 'z': 0},\n",
              "   'bodyPart': 'left-foot',\n",
              "   'goalMouthLocation': 'low-centre',\n",
              "   'goalMouthCoordinates': {'x': 0, 'y': 50.6, 'z': 19},\n",
              "   'blockCoordinates': {'x': 14.6, 'y': 58.7, 'z': 0},\n",
              "   'xg': 0.013880209997296,\n",
              "   'id': 3261759,\n",
              "   'time': 13,\n",
              "   'timeSeconds': 749,\n",
              "   'draw': {'start': {'x': 66.3, 'y': 26.7},\n",
              "    'block': {'x': 58.7, 'y': 14.6},\n",
              "    'end': {'x': 49.4, 'y': 0},\n",
              "    'goal': {'x': 49.4, 'y': 81}},\n",
              "   'reversedPeriodTime': 33,\n",
              "   'reversedPeriodTimeSeconds': 1951,\n",
              "   'incidentType': 'shot'},\n",
              "  {'player': {'name': 'Gonçalo Guedes',\n",
              "    'firstName': '',\n",
              "    'lastName': '',\n",
              "    'slug': 'goncalo-guedes',\n",
              "    'shortName': 'G. Guedes',\n",
              "    'position': 'F',\n",
              "    'jerseyNumber': '9',\n",
              "    'userCount': 4098,\n",
              "    'id': 280979,\n",
              "    'fieldTranslations': {'nameTranslation': {'ar': 'جيديس, جونكالو'},\n",
              "     'shortNameTranslation': {'ar': 'ج. جيديس'}}},\n",
              "   'isHome': True,\n",
              "   'shotType': 'block',\n",
              "   'situation': 'regular',\n",
              "   'playerCoordinates': {'x': 21.8, 'y': 42.3, 'z': 0},\n",
              "   'bodyPart': 'right-foot',\n",
              "   'goalMouthLocation': 'low-right',\n",
              "   'goalMouthCoordinates': {'x': 0, 'y': 48, 'z': 19},\n",
              "   'blockCoordinates': {'x': 20.3, 'y': 43, 'z': 0},\n",
              "   'xg': 0.022685438394547,\n",
              "   'id': 3261725,\n",
              "   'time': 10,\n",
              "   'timeSeconds': 559,\n",
              "   'draw': {'start': {'x': 42.3, 'y': 21.8},\n",
              "    'block': {'x': 43, 'y': 20.3},\n",
              "    'end': {'x': 52, 'y': 0},\n",
              "    'goal': {'x': 52, 'y': 81}},\n",
              "   'reversedPeriodTime': 36,\n",
              "   'reversedPeriodTimeSeconds': 2141,\n",
              "   'incidentType': 'shot'},\n",
              "  {'player': {'name': 'Ilias Akhomach',\n",
              "    'firstName': '',\n",
              "    'lastName': '',\n",
              "    'slug': 'ilias-akhomach',\n",
              "    'shortName': 'I. Akhomach',\n",
              "    'position': 'M',\n",
              "    'jerseyNumber': '27',\n",
              "    'userCount': 6177,\n",
              "    'id': 1089108,\n",
              "    'fieldTranslations': {'nameTranslation': {'ar': 'الياس اخوماش'},\n",
              "     'shortNameTranslation': {'ar': 'ا. اخوماش'}}},\n",
              "   'isHome': True,\n",
              "   'shotType': 'block',\n",
              "   'situation': 'assisted',\n",
              "   'playerCoordinates': {'x': 12.6, 'y': 68.1, 'z': 0},\n",
              "   'bodyPart': 'right-foot',\n",
              "   'goalMouthLocation': 'low-left',\n",
              "   'goalMouthCoordinates': {'x': 0, 'y': 52.4, 'z': 19},\n",
              "   'blockCoordinates': {'x': 11.2, 'y': 65.9, 'z': 0},\n",
              "   'xg': 0.024189999327064,\n",
              "   'id': 3261720,\n",
              "   'time': 10,\n",
              "   'timeSeconds': 554,\n",
              "   'draw': {'start': {'x': 68.1, 'y': 12.6},\n",
              "    'block': {'x': 65.9, 'y': 11.2},\n",
              "    'end': {'x': 47.6, 'y': 0},\n",
              "    'goal': {'x': 47.6, 'y': 81}},\n",
              "   'reversedPeriodTime': 36,\n",
              "   'reversedPeriodTimeSeconds': 2146,\n",
              "   'incidentType': 'shot'},\n",
              "  {'player': {'name': 'Federico Valverde',\n",
              "    'slug': 'federico-valverde',\n",
              "    'shortName': 'F. Valverde',\n",
              "    'position': 'M',\n",
              "    'jerseyNumber': '15',\n",
              "    'userCount': 99839,\n",
              "    'id': 831808,\n",
              "    'fieldTranslations': {'nameTranslation': {'ar': 'فالفيردي, فيديريكو'},\n",
              "     'shortNameTranslation': {'ar': 'ف. فالفيردي'}}},\n",
              "   'isHome': False,\n",
              "   'shotType': 'save',\n",
              "   'situation': 'assisted',\n",
              "   'playerCoordinates': {'x': 28.1, 'y': 33.8, 'z': 0},\n",
              "   'bodyPart': 'right-foot',\n",
              "   'goalMouthLocation': 'low-left',\n",
              "   'goalMouthCoordinates': {'x': 0, 'y': 53.2, 'z': 7.6},\n",
              "   'blockCoordinates': {'x': 2.2, 'y': 48, 'z': 0},\n",
              "   'xg': 0.013765509240329,\n",
              "   'xgot': 0.1247,\n",
              "   'id': 3261719,\n",
              "   'time': 9,\n",
              "   'timeSeconds': 516,\n",
              "   'draw': {'start': {'x': 33.8, 'y': 28.1},\n",
              "    'block': {'x': 48, 'y': 2.2},\n",
              "    'end': {'x': 46.8, 'y': 0},\n",
              "    'goal': {'x': 46.8, 'y': 92.4}},\n",
              "   'reversedPeriodTime': 37,\n",
              "   'reversedPeriodTimeSeconds': 2184,\n",
              "   'incidentType': 'shot'},\n",
              "  {'player': {'name': 'Alexander Sørloth',\n",
              "    'slug': 'alexander-sorloth',\n",
              "    'shortName': 'A. Sørloth',\n",
              "    'position': 'F',\n",
              "    'jerseyNumber': '11',\n",
              "    'userCount': 6200,\n",
              "    'id': 309078,\n",
              "    'fieldTranslations': {'nameTranslation': {'ar': 'سورلوث, ألكسندر'},\n",
              "     'shortNameTranslation': {'ar': 'أ. سورلوث'}}},\n",
              "   'isHome': True,\n",
              "   'shotType': 'post',\n",
              "   'situation': 'assisted',\n",
              "   'playerCoordinates': {'x': 26.8, 'y': 56.8, 'z': 0},\n",
              "   'bodyPart': 'left-foot',\n",
              "   'goalMouthLocation': 'right',\n",
              "   'goalMouthCoordinates': {'x': 0, 'y': 44.5, 'z': 19.6},\n",
              "   'xg': 0.019257197156549,\n",
              "   'id': 3261708,\n",
              "   'time': 6,\n",
              "   'timeSeconds': 349,\n",
              "   'draw': {'start': {'x': 56.8, 'y': 26.8},\n",
              "    'end': {'x': 55.5, 'y': 0},\n",
              "    'goal': {'x': 55.5, 'y': 80.4}},\n",
              "   'reversedPeriodTime': 40,\n",
              "   'reversedPeriodTimeSeconds': 2351,\n",
              "   'incidentType': 'shot'},\n",
              "  {'player': {'name': 'Alberto Moreno',\n",
              "    'firstName': '',\n",
              "    'lastName': '',\n",
              "    'slug': 'alberto-moreno',\n",
              "    'shortName': 'A. Moreno',\n",
              "    'position': 'D',\n",
              "    'jerseyNumber': '18',\n",
              "    'userCount': 796,\n",
              "    'id': 229740,\n",
              "    'fieldTranslations': {'nameTranslation': {'ar': 'مورينو, ألبيرتو'},\n",
              "     'shortNameTranslation': {'ar': 'أ. مورينو'}}},\n",
              "   'isHome': True,\n",
              "   'shotType': 'miss',\n",
              "   'situation': 'assisted',\n",
              "   'playerCoordinates': {'x': 14.7, 'y': 40.9, 'z': 0},\n",
              "   'bodyPart': 'left-foot',\n",
              "   'goalMouthLocation': 'right',\n",
              "   'goalMouthCoordinates': {'x': 0, 'y': 33.9, 'z': 5.6},\n",
              "   'xg': 0.048168569803238,\n",
              "   'id': 3261698,\n",
              "   'time': 6,\n",
              "   'timeSeconds': 301,\n",
              "   'draw': {'start': {'x': 40.9, 'y': 14.7},\n",
              "    'end': {'x': 66.1, 'y': 0},\n",
              "    'goal': {'x': 66.1, 'y': 94.4}},\n",
              "   'reversedPeriodTime': 40,\n",
              "   'reversedPeriodTimeSeconds': 2399,\n",
              "   'incidentType': 'shot'}]}"
            ]
          },
          "metadata": {},
          "execution_count": 26
        }
      ]
    },
    {
      "cell_type": "markdown",
      "source": [
        "Now, we are able to see all the shots that happen at that match. This same analysis is extrapolable to any use case you may want to develop."
      ],
      "metadata": {
        "id": "8q_KQzlXL6dW"
      },
      "id": "8q_KQzlXL6dW"
    }
  ],
  "metadata": {
    "kernelspec": {
      "display_name": "Python 3",
      "language": "python",
      "name": "python3"
    },
    "language_info": {
      "codemirror_mode": {
        "name": "ipython",
        "version": 2
      },
      "file_extension": ".py",
      "mimetype": "text/x-python",
      "name": "python",
      "nbconvert_exporter": "python",
      "pygments_lexer": "ipython2",
      "version": "2.7.6"
    },
    "colab": {
      "provenance": [],
      "include_colab_link": true
    }
  },
  "nbformat": 4,
  "nbformat_minor": 5
}