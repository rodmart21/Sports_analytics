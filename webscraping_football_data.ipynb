{
  "cells": [
    {
      "cell_type": "markdown",
      "metadata": {
        "id": "view-in-github",
        "colab_type": "text"
      },
      "source": [
        "<a href=\"https://colab.research.google.com/github/rodmart21/Sports_analytics/blob/main/webscraping_football_data.ipynb\" target=\"_parent\"><img src=\"https://colab.research.google.com/assets/colab-badge.svg\" alt=\"Open In Colab\"/></a>"
      ]
    },
    {
      "cell_type": "code",
      "execution_count": 1,
      "id": "initial_id",
      "metadata": {
        "collapsed": true,
        "ExecuteTime": {
          "end_time": "2023-12-17T05:20:01.671284Z",
          "start_time": "2023-12-17T05:20:01.578104Z"
        },
        "id": "initial_id"
      },
      "outputs": [],
      "source": [
        "import re\n",
        "import requests\n",
        "\n",
        "from bs4 import BeautifulSoup"
      ]
    },
    {
      "cell_type": "code",
      "execution_count": 2,
      "outputs": [],
      "source": [
        "# Scrape a player page\n",
        "url = \"https://www.transfermarkt.us/erling-haaland/profil/spieler/418560\"\n",
        "player_id = url.split('/')[-1]"
      ],
      "metadata": {
        "ExecuteTime": {
          "end_time": "2023-12-17T05:20:08.396680Z",
          "start_time": "2023-12-17T05:20:08.394096Z"
        },
        "id": "6d5f36a5e2f72211"
      },
      "id": "6d5f36a5e2f72211"
    },
    {
      "cell_type": "code",
      "execution_count": 3,
      "outputs": [],
      "source": [
        "# Get headers from https://www.whatismybrowser.com/detect/what-http-headers-is-my-browser-sending\n",
        "headers = {\n",
        "    'user-agent': 'Mozilla/5.0 (Macintosh; Intel Mac OS X 10_15_7) AppleWebKit/537.36 (KHTML, like Gecko) Chrome/119.0.0.0 Safari/537.36',\n",
        "}"
      ],
      "metadata": {
        "ExecuteTime": {
          "end_time": "2023-12-17T05:20:14.204176Z",
          "start_time": "2023-12-17T05:20:14.201892Z"
        },
        "id": "a3358d2de7990ccc"
      },
      "id": "a3358d2de7990ccc"
    },
    {
      "cell_type": "code",
      "source": [
        "headers = {'user-agent': 'Mozilla/5.0 (Windows NT 10.0; Win64; x64) AppleWebKit/537.36 (KHTML, like Gecko) Chrome/124.0.0.0 Safari/537.36'}"
      ],
      "metadata": {
        "id": "EnNRhvDiUG7E"
      },
      "id": "EnNRhvDiUG7E",
      "execution_count": 4,
      "outputs": []
    },
    {
      "cell_type": "code",
      "execution_count": 5,
      "outputs": [],
      "source": [
        "response = requests.get(url, headers=headers)\n",
        "soup = BeautifulSoup(response.content, \"html.parser\")\n",
        "# BeautifulSoup(): Convierte el contenido HTML en un objeto BeautifulSoup,\n",
        "# lo que facilita la manipulación y el análisis del HTML. Esto es útil para extraer datos específicos de la página web, como títulos, párrafos, enlaces, tablas, etc."
      ],
      "metadata": {
        "ExecuteTime": {
          "end_time": "2023-12-17T05:20:19.043486Z",
          "start_time": "2023-12-17T05:20:18.142240Z"
        },
        "id": "3ee3258cb5f1de35"
      },
      "id": "3ee3258cb5f1de35"
    },
    {
      "cell_type": "code",
      "source": [
        "response.status_code"
      ],
      "metadata": {
        "colab": {
          "base_uri": "https://localhost:8080/"
        },
        "id": "iuAp_8LiUe_H",
        "outputId": "0f5550f6-0aa5-4ad4-e800-da078097cbf1"
      },
      "id": "iuAp_8LiUe_H",
      "execution_count": 6,
      "outputs": [
        {
          "output_type": "execute_result",
          "data": {
            "text/plain": [
              "200"
            ]
          },
          "metadata": {},
          "execution_count": 6
        }
      ]
    },
    {
      "cell_type": "code",
      "source": [
        "p=soup.select_one('h1[class=\"data-header__headline-wrapper\"]')  # Lo cogemos con el inspect de la página de Transfermarkt.\n",
        "                                                                # Haces click derecho y la última opción"
      ],
      "metadata": {
        "id": "MKpeVd9LWmf6"
      },
      "id": "MKpeVd9LWmf6",
      "execution_count": 7,
      "outputs": []
    },
    {
      "cell_type": "code",
      "source": [
        "print(p)"
      ],
      "metadata": {
        "colab": {
          "base_uri": "https://localhost:8080/"
        },
        "id": "Sw6gn3hbaAez",
        "outputId": "355ac778-d17b-47e0-fc0b-c7e838656375"
      },
      "id": "Sw6gn3hbaAez",
      "execution_count": 8,
      "outputs": [
        {
          "output_type": "stream",
          "name": "stdout",
          "text": [
            "<h1 class=\"data-header__headline-wrapper\">\n",
            "<span class=\"data-header__shirt-number\">\n",
            "                        #9                    </span>\n",
            "                                Erling <strong>Haaland</strong> </h1>\n"
          ]
        }
      ]
    },
    {
      "cell_type": "code",
      "execution_count": 9,
      "outputs": [],
      "source": [
        "player_name = soup.select_one('h1[class=\"data-header__headline-wrapper\"]').text.split('\\n')[-1].strip()\n",
        "player_number = soup.select_one('span[class=\"data-header__shirt-number\"]').text.strip().replace('#', '')"
      ],
      "metadata": {
        "ExecuteTime": {
          "end_time": "2023-12-17T05:20:24.242395Z",
          "start_time": "2023-12-17T05:20:24.238078Z"
        },
        "id": "2a2448897d5838de"
      },
      "id": "2a2448897d5838de"
    },
    {
      "cell_type": "code",
      "source": [
        "equipo = soup.select_one('h1[class=\"data-header__info-box\"]')\n",
        "print(equipo)"
      ],
      "metadata": {
        "colab": {
          "base_uri": "https://localhost:8080/"
        },
        "id": "prOwSfpYX1Iw",
        "outputId": "e684e96e-3aa5-40cb-a1bd-e67b7aa7a896"
      },
      "id": "prOwSfpYX1Iw",
      "execution_count": 16,
      "outputs": [
        {
          "output_type": "stream",
          "name": "stdout",
          "text": [
            "None\n"
          ]
        }
      ]
    },
    {
      "cell_type": "code",
      "source": [
        "equipo = soup.select_one('h1[class=\"data-header__club\"]')\n",
        "print(equipo)"
      ],
      "metadata": {
        "id": "JI0Atdt6DtHl"
      },
      "id": "JI0Atdt6DtHl",
      "execution_count": null,
      "outputs": []
    },
    {
      "cell_type": "code",
      "source": [
        "player_name = soup.select_one('h1[class=\"data-header__headline-wrapper\"]')\n",
        "print(player_name)"
      ],
      "metadata": {
        "colab": {
          "base_uri": "https://localhost:8080/"
        },
        "id": "k8IbVxnMDXZW",
        "outputId": "0f85293b-9842-43e2-ca99-08225c1b76a6"
      },
      "id": "k8IbVxnMDXZW",
      "execution_count": 14,
      "outputs": [
        {
          "output_type": "stream",
          "name": "stdout",
          "text": [
            "<h1 class=\"data-header__headline-wrapper\">\n",
            "<span class=\"data-header__shirt-number\">\n",
            "                        #9                    </span>\n",
            "                                Erling <strong>Haaland</strong> </h1>\n"
          ]
        }
      ]
    },
    {
      "cell_type": "markdown",
      "source": [
        "## Hay webs en las que es más sencillo extraer los datos, Transfermarkt no es una de ellas, así que se puede seguir otra estrategia."
      ],
      "metadata": {
        "id": "UHLDHc6LF0QE"
      },
      "id": "UHLDHc6LF0QE"
    },
    {
      "cell_type": "markdown",
      "source": [
        "### En castellano, en regex101 lo detecta, pero fuera de ahí tienes que escribirlo como en la web original (en inglés).\n"
      ],
      "metadata": {
        "id": "SPb_yo-6PAYp"
      },
      "id": "SPb_yo-6PAYp"
    },
    {
      "cell_type": "code",
      "source": [
        "a=re.search(\"Contract expires: .*__content\\\">(.*?)</span>\",str(soup)).group(1)  #Este es el primer regex que se le ocurrió, se puede mejorar.\n",
        "print(a)"
      ],
      "metadata": {
        "colab": {
          "base_uri": "https://localhost:8080/"
        },
        "id": "PP2wnOPcMliA",
        "outputId": "7f03feff-e563-4195-837f-7dc5f12e9651"
      },
      "id": "PP2wnOPcMliA",
      "execution_count": 38,
      "outputs": [
        {
          "output_type": "stream",
          "name": "stdout",
          "text": [
            "Jun 30, 2027\n"
          ]
        }
      ]
    },
    {
      "cell_type": "code",
      "source": [
        "a=re.search(\"Contrato hasta .*__content\\\">(.*?)</span>\",str(soup)).group(1)\n",
        "print(a)"
      ],
      "metadata": {
        "colab": {
          "base_uri": "https://localhost:8080/",
          "height": 158
        },
        "id": "XW62Ka3iSxAD",
        "outputId": "b97fc6f7-e717-41df-c62b-3ea3dbb4c300"
      },
      "id": "XW62Ka3iSxAD",
      "execution_count": 39,
      "outputs": [
        {
          "output_type": "error",
          "ename": "AttributeError",
          "evalue": "'NoneType' object has no attribute 'group'",
          "traceback": [
            "\u001b[0;31m---------------------------------------------------------------------------\u001b[0m",
            "\u001b[0;31mAttributeError\u001b[0m                            Traceback (most recent call last)",
            "\u001b[0;32m<ipython-input-39-4d80b2d878e1>\u001b[0m in \u001b[0;36m<cell line: 1>\u001b[0;34m()\u001b[0m\n\u001b[0;32m----> 1\u001b[0;31m \u001b[0ma\u001b[0m\u001b[0;34m=\u001b[0m\u001b[0mre\u001b[0m\u001b[0;34m.\u001b[0m\u001b[0msearch\u001b[0m\u001b[0;34m(\u001b[0m\u001b[0;34m\"Contrato hasta .*__content\\\">(.*?)</span>\"\u001b[0m\u001b[0;34m,\u001b[0m\u001b[0mstr\u001b[0m\u001b[0;34m(\u001b[0m\u001b[0msoup\u001b[0m\u001b[0;34m)\u001b[0m\u001b[0;34m)\u001b[0m\u001b[0;34m.\u001b[0m\u001b[0mgroup\u001b[0m\u001b[0;34m(\u001b[0m\u001b[0;36m1\u001b[0m\u001b[0;34m)\u001b[0m\u001b[0;34m\u001b[0m\u001b[0;34m\u001b[0m\u001b[0m\n\u001b[0m\u001b[1;32m      2\u001b[0m \u001b[0mprint\u001b[0m\u001b[0;34m(\u001b[0m\u001b[0ma\u001b[0m\u001b[0;34m)\u001b[0m\u001b[0;34m\u001b[0m\u001b[0;34m\u001b[0m\u001b[0m\n",
            "\u001b[0;31mAttributeError\u001b[0m: 'NoneType' object has no attribute 'group'"
          ]
        }
      ]
    },
    {
      "cell_type": "code",
      "execution_count": 21,
      "outputs": [],
      "source": [
        "# Let's use regex to find the player's contract expiry date\n",
        "player_contract_expiry = re.search(\"Contract expires: (.*)\", soup.text).group(1)\n",
        "\n",
        "# Now let's add some more complex regex patterns to find the player's birthplace\n",
        "player_birthplace = re.search(\"Place of birth:.*?([A-z].*?) \", soup.text, re.DOTALL).group(1).strip()\n",
        "\n",
        "# We can reuse both of those ideas to find other player information but just replacing the name\n",
        "\n",
        "# We might have to switch a couple of things though in the regex pattern like accounting for two words\n",
        "player_agent = re.search(\"Agent:.*?([A-z].*?)\\n\", soup.text, re.DOTALL).group(1).strip()\n",
        "\n",
        "# We can also use regex to find the player's height which has numbers a comma and letters\n",
        "player_height = re.search(\"Height:.*?([0-9].*?)\\n\", soup.text, re.DOTALL).group(1).strip()\n"
      ],
      "metadata": {
        "ExecuteTime": {
          "end_time": "2023-12-17T05:20:38.603396Z",
          "start_time": "2023-12-17T05:20:38.598567Z"
        },
        "id": "29f9348d799db157"
      },
      "id": "29f9348d799db157"
    },
    {
      "cell_type": "code",
      "source": [
        "player_contract_expiry"
      ],
      "metadata": {
        "colab": {
          "base_uri": "https://localhost:8080/",
          "height": 36
        },
        "id": "vTZNdKjZJ1Fm",
        "outputId": "20ee4063-e225-4c1e-d213-b315dbe300de"
      },
      "id": "vTZNdKjZJ1Fm",
      "execution_count": 23,
      "outputs": [
        {
          "output_type": "execute_result",
          "data": {
            "text/plain": [
              "'Jun 30, 2027'"
            ],
            "application/vnd.google.colaboratory.intrinsic+json": {
              "type": "string"
            }
          },
          "metadata": {},
          "execution_count": 23
        }
      ]
    },
    {
      "cell_type": "markdown",
      "source": [
        "## La tercera forma. Con la llamada a la API y el código que cogemos de https://curlconverter.com/ dónde solo nos quedamos con la última parte que es la que nos interesa."
      ],
      "metadata": {
        "id": "06vZGx8XTFhy"
      },
      "id": "06vZGx8XTFhy"
    },
    {
      "cell_type": "code",
      "source": [
        "response=requests.get('https://www.transfermarkt.es/ceapi/marketValueDevelopment/graph/418560',cookies=cookies,headers=headers,)"
      ],
      "metadata": {
        "colab": {
          "base_uri": "https://localhost:8080/",
          "height": 141
        },
        "id": "O_yBzqaFZMQz",
        "outputId": "44c50dc0-be8c-4360-f47c-f1e2e0ff6249"
      },
      "id": "O_yBzqaFZMQz",
      "execution_count": 40,
      "outputs": [
        {
          "output_type": "error",
          "ename": "NameError",
          "evalue": "name 'cookies' is not defined",
          "traceback": [
            "\u001b[0;31m---------------------------------------------------------------------------\u001b[0m",
            "\u001b[0;31mNameError\u001b[0m                                 Traceback (most recent call last)",
            "\u001b[0;32m<ipython-input-40-8a51b1a877af>\u001b[0m in \u001b[0;36m<cell line: 1>\u001b[0;34m()\u001b[0m\n\u001b[0;32m----> 1\u001b[0;31m \u001b[0mresponse\u001b[0m\u001b[0;34m=\u001b[0m\u001b[0mrequests\u001b[0m\u001b[0;34m.\u001b[0m\u001b[0mget\u001b[0m\u001b[0;34m(\u001b[0m\u001b[0;34m'https://www.transfermarkt.es/ceapi/marketValueDevelopment/graph/418560'\u001b[0m\u001b[0;34m,\u001b[0m\u001b[0mcookies\u001b[0m\u001b[0;34m=\u001b[0m\u001b[0mcookies\u001b[0m\u001b[0;34m,\u001b[0m\u001b[0mheaders\u001b[0m\u001b[0;34m=\u001b[0m\u001b[0mheaders\u001b[0m\u001b[0;34m,\u001b[0m\u001b[0;34m)\u001b[0m\u001b[0;34m\u001b[0m\u001b[0;34m\u001b[0m\u001b[0m\n\u001b[0m",
            "\u001b[0;31mNameError\u001b[0m: name 'cookies' is not defined"
          ]
        }
      ]
    },
    {
      "cell_type": "code",
      "source": [
        "player_id"
      ],
      "metadata": {
        "colab": {
          "base_uri": "https://localhost:8080/",
          "height": 36
        },
        "id": "mb06eRfdbFHk",
        "outputId": "dcf2de7e-9319-44ce-d5ef-296c8cc3cfc2"
      },
      "id": "mb06eRfdbFHk",
      "execution_count": 47,
      "outputs": [
        {
          "output_type": "execute_result",
          "data": {
            "text/plain": [
              "'418560'"
            ],
            "application/vnd.google.colaboratory.intrinsic+json": {
              "type": "string"
            }
          },
          "metadata": {},
          "execution_count": 47
        }
      ]
    },
    {
      "cell_type": "code",
      "source": [
        "# Añadimos la f para decir que es un string, y también el player_id.\n",
        "response=requests.get(f'https://www.transfermarkt.es/ceapi/marketValueDevelopment/graph/{player_id}', headers=headers,)"
      ],
      "metadata": {
        "id": "BncJJC-GaAFQ"
      },
      "id": "BncJJC-GaAFQ",
      "execution_count": 44,
      "outputs": []
    },
    {
      "cell_type": "code",
      "source": [
        "response.status_code  # 200 significa que ha ido bien, 404 por ejemplo, que ha ido mal."
      ],
      "metadata": {
        "colab": {
          "base_uri": "https://localhost:8080/"
        },
        "id": "7FTnP2vga04e",
        "outputId": "1c419b44-353f-4258-e863-65996604722c"
      },
      "id": "7FTnP2vga04e",
      "execution_count": 45,
      "outputs": [
        {
          "output_type": "execute_result",
          "data": {
            "text/plain": [
              "200"
            ]
          },
          "metadata": {},
          "execution_count": 45
        }
      ]
    },
    {
      "cell_type": "code",
      "source": [
        "response.json()  # Tenemos la lista con todos sus valores de mercado."
      ],
      "metadata": {
        "id": "Gaj3I_1tdNYn"
      },
      "id": "Gaj3I_1tdNYn",
      "execution_count": 49,
      "outputs": []
    },
    {
      "cell_type": "code",
      "source": [
        "response.json().keys()"
      ],
      "metadata": {
        "colab": {
          "base_uri": "https://localhost:8080/"
        },
        "id": "YfR7PO20dgCM",
        "outputId": "2bc77ab2-1ced-4f3d-b8d5-57f1a14dd707"
      },
      "id": "YfR7PO20dgCM",
      "execution_count": 52,
      "outputs": [
        {
          "output_type": "execute_result",
          "data": {
            "text/plain": [
              "dict_keys(['list', 'current', 'highest', 'highest_date', 'last_change', 'details_url', 'thread', 'translations'])"
            ]
          },
          "metadata": {},
          "execution_count": 52
        }
      ]
    },
    {
      "cell_type": "code",
      "execution_count": 7,
      "outputs": [],
      "source": [
        "# Ok so now that we've got some basic regex patterns, let's move on to using api endpoints\n",
        "# curlconverter.com\n",
        "api_endpoints = [\n",
        "    f\"marketValueDevelopment/graph/{player_id}\",\n",
        "    f\"transferHistory/list/{player_id}\",\n",
        "    f\"player/{player_id}/performance\"\n",
        "]\n",
        "\n",
        "for endpoint in api_endpoints:\n",
        "    response = requests.get(\n",
        "        'https://www.transfermarkt.us/ceapi/' + endpoint,\n",
        "        headers=headers\n",
        "    ).json()"
      ],
      "metadata": {
        "ExecuteTime": {
          "end_time": "2023-12-17T05:20:45.896153Z",
          "start_time": "2023-12-17T05:20:43.948328Z"
        },
        "id": "fc7ed8d082732dd2"
      },
      "id": "fc7ed8d082732dd2"
    },
    {
      "cell_type": "markdown",
      "source": [
        "## Scrapping data form SofaScore. I add the football from Real Madrid"
      ],
      "metadata": {
        "id": "oxCd0cT_eRkb"
      },
      "id": "oxCd0cT_eRkb"
    },
    {
      "cell_type": "code",
      "source": [
        "import requests\n",
        "from bs4 import BeautifulSoup"
      ],
      "metadata": {
        "id": "g6rEjnJ6M9QE"
      },
      "id": "g6rEjnJ6M9QE",
      "execution_count": 55,
      "outputs": []
    },
    {
      "cell_type": "code",
      "source": [
        "https://www.sofascore.com/es/real-madrid-villarreal/ugbsEgb#id:11368619,tab:details"
      ],
      "metadata": {
        "id": "zQxnvOrpgGx7"
      },
      "id": "zQxnvOrpgGx7",
      "execution_count": null,
      "outputs": []
    },
    {
      "cell_type": "code",
      "execution_count": 56,
      "outputs": [],
      "source": [
        "response = requests.get(\n",
        "    'https://www.sofascore.com/arsenal-manchester-city/rsR#10385636',\n",
        "    headers={'User-Agent': 'Mozilla/5.0'} # you'll be blocked if you don't use some type of user agent\n",
        ")"
      ],
      "metadata": {
        "id": "3zu1BX6_fnER"
      },
      "id": "3zu1BX6_fnER"
    },
    {
      "cell_type": "code",
      "source": [
        "response = requests.get(\n",
        "    'https://www.sofascore.com/es/real-madrid-villarreal/ugbsEgb#id:11368619,tab:details')"
      ],
      "metadata": {
        "id": "OTHxWWYDg-co"
      },
      "id": "OTHxWWYDg-co",
      "execution_count": 59,
      "outputs": []
    },
    {
      "cell_type": "code",
      "source": [
        "response.status_code"
      ],
      "metadata": {
        "colab": {
          "base_uri": "https://localhost:8080/"
        },
        "id": "J199RC-HhCgR",
        "outputId": "00705fdd-c4ec-42c8-e880-c92073ed40f6"
      },
      "id": "J199RC-HhCgR",
      "execution_count": 60,
      "outputs": [
        {
          "output_type": "execute_result",
          "data": {
            "text/plain": [
              "200"
            ]
          },
          "metadata": {},
          "execution_count": 60
        }
      ]
    },
    {
      "cell_type": "markdown",
      "source": [
        "### Los headers los incuimos de la página: https://www.whatismybrowser.com/detect/what-http-headers-is-my-browser-sending , igual que hacíamos antes. Normalmente aparece algo más que lo de Mozilla, pero en este caso con eso es necesario, lo importante es que el status_code sea 200.\n",
        "\n"
      ],
      "metadata": {
        "id": "zyPiJ4_GhItF"
      },
      "id": "zyPiJ4_GhItF"
    },
    {
      "cell_type": "code",
      "source": [
        "response = requests.get(\n",
        "    'https://www.sofascore.com/es/real-madrid-villarreal/ugbsEgb#id:11368619,tab:details',\n",
        "    headers={'User-Agent': 'Mozilla/5.0'} # you'll be blocked if you don't use some type of user agent.\n",
        ")"
      ],
      "metadata": {
        "id": "u6ucNDFYgNYF"
      },
      "id": "u6ucNDFYgNYF",
      "execution_count": 61,
      "outputs": []
    },
    {
      "cell_type": "code",
      "source": [
        "response.status_code  # 200 está bien"
      ],
      "metadata": {
        "colab": {
          "base_uri": "https://localhost:8080/"
        },
        "id": "MlFzMfdcgtqj",
        "outputId": "be2a672f-f5fc-43c4-a379-d064b3e5de5d"
      },
      "id": "MlFzMfdcgtqj",
      "execution_count": 62,
      "outputs": [
        {
          "output_type": "execute_result",
          "data": {
            "text/plain": [
              "200"
            ]
          },
          "metadata": {},
          "execution_count": 62
        }
      ]
    },
    {
      "cell_type": "markdown",
      "source": [
        "## Crear una instancia de BeautifulSoup para analizar el HTML\n"
      ],
      "metadata": {
        "id": "25oZCrFUkAei"
      },
      "id": "25oZCrFUkAei"
    },
    {
      "cell_type": "code",
      "execution_count": 63,
      "outputs": [],
      "source": [
        "soup = BeautifulSoup(response.text, 'html.parser')"
      ],
      "metadata": {
        "id": "5dK3sfe9fnER"
      },
      "id": "5dK3sfe9fnER"
    },
    {
      "cell_type": "markdown",
      "source": [
        "If we wanted to scrape all of the shots using just normal requests and beautiful soup...\n",
        "We'd have to do some pretty complicated stuff to get the data we want"
      ],
      "metadata": {
        "collapsed": false,
        "id": "HwPZIRZFfnER"
      },
      "id": "HwPZIRZFfnER"
    },
    {
      "cell_type": "code",
      "source": [
        "soup.select('g[cursor=\"pointer\"]'  # No lo podemos cargar, el código viene de JavaScript. Debemos usar la opción de la API."
      ],
      "metadata": {
        "colab": {
          "base_uri": "https://localhost:8080/"
        },
        "id": "B8i6HqBllWS7",
        "outputId": "836eefb7-1a82-453f-9530-cee99587bf6d"
      },
      "id": "B8i6HqBllWS7",
      "execution_count": 65,
      "outputs": [
        {
          "output_type": "execute_result",
          "data": {
            "text/plain": [
              "[]"
            ]
          },
          "metadata": {},
          "execution_count": 65
        }
      ]
    },
    {
      "cell_type": "code",
      "execution_count": 64,
      "outputs": [
        {
          "output_type": "execute_result",
          "data": {
            "text/plain": [
              "[]"
            ]
          },
          "metadata": {},
          "execution_count": 64
        }
      ],
      "source": [
        "# As you can see we can't even get the shots because they are dynamically loaded\n",
        "soup.select('g[cursor=\"pointer\"]')"
      ],
      "metadata": {
        "id": "ME5xUY3OfnES",
        "outputId": "38b1c794-322d-48dc-f735-352296d9cb3a",
        "colab": {
          "base_uri": "https://localhost:8080/"
        }
      },
      "id": "ME5xUY3OfnES"
    },
    {
      "cell_type": "markdown",
      "source": [
        "What we'll do is use the API's they are loading to call that data directly\n",
        "\n",
        "If we look in the `network` tab of the developer tools we can see the API calls they are making\n",
        "and then we can copy that and make it ourselves in our code"
      ],
      "metadata": {
        "collapsed": false,
        "id": "Mr2Sh7b5fnES"
      },
      "id": "Mr2Sh7b5fnES"
    },
    {
      "cell_type": "markdown",
      "source": [
        "# Steps:\n",
        "1. Find the API call `shotmap` in the network tab\n",
        "2. Right click and copy as a cURL\n",
        "3. go to curlconverter.com and paste the cURL\n",
        "4. copy the python code"
      ],
      "metadata": {
        "collapsed": false,
        "id": "fmvW455afnES"
      },
      "id": "fmvW455afnES"
    },
    {
      "cell_type": "code",
      "source": [
        "# Lo que sacamos del curlconverter.x\n",
        "\n",
        "import requests\n",
        "\n",
        "cookies = {\n",
        "    '_gcl_au': '1.1.2081927633.1716149495',\n",
        "    '_ga': 'GA1.1.1941725413.1716149497',\n",
        "    'FCCDCF': '%5Bnull%2Cnull%2Cnull%2C%5B%22CP-3IoAP-3IoAEsACBENA1EoAP_gAEPgAA6II3gB5C5ETSFBYH51KIsUYAEHwAAAIsAgAAYBAQABQBKQAIQCAGAAEAhAhCACgAAAIEYBIAEACAAQAAAAAAAAIAAEIAAQAAAIICAAAAAAAABIAAAIAAAAEAAAwCAABAAA0AgEAJIISMgAAAAAAAAAAgAAAAAAAgAAAEhAAAEIAAAAACgAEABAEAAAAAEIABBII3gB5C5ETSFBYHhVIIMUIAERQAAAIsAgAAQBAQAAQBKQAIQCEGAAAAgAACAAAAAAIEQBIAEAAAgAAAAAAAAAIAAEAAAAAAAIICAAAAAAAABAAAAIAAAAAAAAwCAABAAAwQhEAJIASEgAAAAgAAAAAoAAAAAAAgAAAEhAAAEAAAAAAAAAEAAAEAAAAAAAABBIAAA.dnAACAgAAAA%22%2C%222~41.70.89.108.149.211.313.358.415.486.540.621.981.1029.1046.1092.1097.1126.1205.1301.1516.1558.1584.1598.1651.1697.1716.1753.1810.1832.1985.2328.2373.2440.2571.2572.2575.2577.2628.2642.2677.2767.2860.2878.2887.2922.3182.3190.3234.3290.3292.3331.10631~dv.%22%2C%22D59998C3-B901-4C02-BBB2-BDDFE43E2F71%22%5D%5D',\n",
        "    '__qca': 'P0-256114773-1716149503180',\n",
        "    'cto_bundle': 'FoUvXF82R2hvSGRab0ZDaDA2cVBJalB4dm8zNlpJb2VROWw4aW1SaUhSa1ZmQURlV3FuYkd0MGxLT096QlZ6U1pQNjZXS0RBbjRkU2xJeHpyUzBuaFhQYnRuaFBmamFTVHBTN2ZTd0lvTkp2eks5NFRzQ2MyY096aFRPUGgwYmxoRWd0dGU3Um1QZ3ViNnpGWTZZNmlncWw4V21xbXhPSzlJTXFmOWV4RXJvVjdLU1klM0Q',\n",
        "    '__gads': 'ID=5d75f2defa542b67:T=1716149503:RT=1716151368:S=ALNI_MZw9Ix0nE-Z5ANRGCYWN9kD7mdITQ',\n",
        "    '__gpi': 'UID=00000d77dc0a78c4:T=1716149503:RT=1716151368:S=ALNI_MYOwWy2DfRrGHLHTg67ZGbALi6DRw',\n",
        "    '__eoi': 'ID=f8c69ad5d57acdd5:T=1716149504:RT=1716151368:S=AA-AfjbGVbAMiWc-xXla9msMNOPW',\n",
        "    'FCNEC': '%5B%5B%22AKsRol8v_YosFsb-eEuh-Off_X3IiDVmt-cjmf-Kg37lmygsEGbrPYoY50QH3lcrTiu-R0I6uJ8cHB1uaxdu1rnIIQYUW4xbhbodJMZmXKNgDif0Mii9m2Nzkpg9OcBe9HQYJ414g5uoNcDvaXmMieRjOOFm2aRacw%3D%3D%22%5D%5D',\n",
        "    '_ga_QH2YGS7BB4': 'GS1.1.1716149496.1.1.1716151386.0.0.0',\n",
        "    '_ga_3KF4XTPHC4': 'GS1.1.1716149496.1.1.1716151386.57.0.0',\n",
        "    '_ga_HNQ9P9MGZR': 'GS1.1.1716149498.1.1.1716151398.54.0.0',\n",
        "}\n",
        "\n",
        "headers = {\n",
        "    'accept': '*/*',\n",
        "    'accept-language': 'en-US,en;q=0.9',\n",
        "    'cache-control': 'max-age=0',\n",
        "    # 'cookie': '_gcl_au=1.1.2081927633.1716149495; _ga=GA1.1.1941725413.1716149497; FCCDCF=%5Bnull%2Cnull%2Cnull%2C%5B%22CP-3IoAP-3IoAEsACBENA1EoAP_gAEPgAA6II3gB5C5ETSFBYH51KIsUYAEHwAAAIsAgAAYBAQABQBKQAIQCAGAAEAhAhCACgAAAIEYBIAEACAAQAAAAAAAAIAAEIAAQAAAIICAAAAAAAABIAAAIAAAAEAAAwCAABAAA0AgEAJIISMgAAAAAAAAAAgAAAAAAAgAAAEhAAAEIAAAAACgAEABAEAAAAAEIABBII3gB5C5ETSFBYHhVIIMUIAERQAAAIsAgAAQBAQAAQBKQAIQCEGAAAAgAACAAAAAAIEQBIAEAAAgAAAAAAAAAIAAEAAAAAAAIICAAAAAAAABAAAAIAAAAAAAAwCAABAAAwQhEAJIASEgAAAAgAAAAAoAAAAAAAgAAAEhAAAEAAAAAAAAAEAAAEAAAAAAAABBIAAA.dnAACAgAAAA%22%2C%222~41.70.89.108.149.211.313.358.415.486.540.621.981.1029.1046.1092.1097.1126.1205.1301.1516.1558.1584.1598.1651.1697.1716.1753.1810.1832.1985.2328.2373.2440.2571.2572.2575.2577.2628.2642.2677.2767.2860.2878.2887.2922.3182.3190.3234.3290.3292.3331.10631~dv.%22%2C%22D59998C3-B901-4C02-BBB2-BDDFE43E2F71%22%5D%5D; __qca=P0-256114773-1716149503180; cto_bundle=FoUvXF82R2hvSGRab0ZDaDA2cVBJalB4dm8zNlpJb2VROWw4aW1SaUhSa1ZmQURlV3FuYkd0MGxLT096QlZ6U1pQNjZXS0RBbjRkU2xJeHpyUzBuaFhQYnRuaFBmamFTVHBTN2ZTd0lvTkp2eks5NFRzQ2MyY096aFRPUGgwYmxoRWd0dGU3Um1QZ3ViNnpGWTZZNmlncWw4V21xbXhPSzlJTXFmOWV4RXJvVjdLU1klM0Q; __gads=ID=5d75f2defa542b67:T=1716149503:RT=1716151368:S=ALNI_MZw9Ix0nE-Z5ANRGCYWN9kD7mdITQ; __gpi=UID=00000d77dc0a78c4:T=1716149503:RT=1716151368:S=ALNI_MYOwWy2DfRrGHLHTg67ZGbALi6DRw; __eoi=ID=f8c69ad5d57acdd5:T=1716149504:RT=1716151368:S=AA-AfjbGVbAMiWc-xXla9msMNOPW; FCNEC=%5B%5B%22AKsRol8v_YosFsb-eEuh-Off_X3IiDVmt-cjmf-Kg37lmygsEGbrPYoY50QH3lcrTiu-R0I6uJ8cHB1uaxdu1rnIIQYUW4xbhbodJMZmXKNgDif0Mii9m2Nzkpg9OcBe9HQYJ414g5uoNcDvaXmMieRjOOFm2aRacw%3D%3D%22%5D%5D; _ga_QH2YGS7BB4=GS1.1.1716149496.1.1.1716151386.0.0.0; _ga_3KF4XTPHC4=GS1.1.1716149496.1.1.1716151386.57.0.0; _ga_HNQ9P9MGZR=GS1.1.1716149498.1.1.1716151398.54.0.0',\n",
        "    'if-none-match': 'W/\"256303f320\"',\n",
        "    'priority': 'u=1, i',\n",
        "    'referer': 'https://www.sofascore.com/es/real-madrid-villarreal/ugbsEgb',\n",
        "    'sec-ch-ua': '\"Chromium\";v=\"124\", \"Google Chrome\";v=\"124\", \"Not-A.Brand\";v=\"99\"',\n",
        "    'sec-ch-ua-mobile': '?0',\n",
        "    'sec-ch-ua-platform': '\"Windows\"',\n",
        "    'sec-fetch-dest': 'empty',\n",
        "    'sec-fetch-mode': 'cors',\n",
        "    'sec-fetch-site': 'same-origin',\n",
        "    'user-agent': 'Mozilla/5.0 (Windows NT 10.0; Win64; x64) AppleWebKit/537.36 (KHTML, like Gecko) Chrome/124.0.0.0 Safari/537.36',\n",
        "    'x-requested-with': '337e31',\n",
        "}\n",
        "\n",
        "response = requests.get('https://www.sofascore.com/api/v1/event/11368619/shotmap', cookies=cookies, headers=headers)"
      ],
      "metadata": {
        "id": "PLvvcCldmoSm"
      },
      "id": "PLvvcCldmoSm",
      "execution_count": 66,
      "outputs": []
    },
    {
      "cell_type": "code",
      "source": [
        "response.status_code  # Obtenemos un 304,"
      ],
      "metadata": {
        "colab": {
          "base_uri": "https://localhost:8080/"
        },
        "id": "NhGqtb-FnCdY",
        "outputId": "bec1c1f2-27bd-4a95-a635-3d52137b21d7"
      },
      "id": "NhGqtb-FnCdY",
      "execution_count": 67,
      "outputs": [
        {
          "output_type": "execute_result",
          "data": {
            "text/plain": [
              "304"
            ]
          },
          "metadata": {},
          "execution_count": 67
        }
      ]
    },
    {
      "cell_type": "markdown",
      "source": [
        "## Añadir esta fecha a nuestro código, para evitar ese error"
      ],
      "metadata": {
        "id": "BVD9Ifz5nm6f"
      },
      "id": "BVD9Ifz5nm6f"
    },
    {
      "cell_type": "code",
      "source": [
        "headers['If-Modified-Since'] = 'Tues, 18 Jul 2023 00:00:00 GMT'"
      ],
      "metadata": {
        "id": "puzgbQiMn0W3"
      },
      "id": "puzgbQiMn0W3",
      "execution_count": 77,
      "outputs": []
    },
    {
      "cell_type": "code",
      "source": [
        "response = requests.get('https://www.sofascore.com/api/v1/event/11368619/shotmap', headers=headers)\n",
        "response"
      ],
      "metadata": {
        "colab": {
          "base_uri": "https://localhost:8080/"
        },
        "id": "qxmWddC-n2UF",
        "outputId": "cc5397c4-946f-43f7-96e2-4f35659c2648"
      },
      "id": "qxmWddC-n2UF",
      "execution_count": 78,
      "outputs": [
        {
          "output_type": "execute_result",
          "data": {
            "text/plain": [
              "<Response [200]>"
            ]
          },
          "metadata": {},
          "execution_count": 78
        }
      ]
    },
    {
      "cell_type": "code",
      "source": [
        "response.json()"
      ],
      "metadata": {
        "colab": {
          "base_uri": "https://localhost:8080/"
        },
        "id": "kgdpCrK6n9NV",
        "outputId": "7b905ac8-f491-46ef-cf5b-3e9f9711f6ba"
      },
      "id": "kgdpCrK6n9NV",
      "execution_count": 79,
      "outputs": [
        {
          "output_type": "execute_result",
          "data": {
            "text/plain": [
              "{'shotmap': [{'player': {'name': 'Bertrand Traoré',\n",
              "    'firstName': '',\n",
              "    'lastName': '',\n",
              "    'slug': 'bertrand-traore',\n",
              "    'shortName': 'B. Traoré',\n",
              "    'position': 'M',\n",
              "    'jerseyNumber': '25',\n",
              "    'userCount': 4868,\n",
              "    'id': 218160,\n",
              "    'fieldTranslations': {'nameTranslation': {'ar': 'برتران تراوري إيزيدور'},\n",
              "     'shortNameTranslation': {'ar': 'ب. ت. إيزيدور'}}},\n",
              "   'isHome': True,\n",
              "   'shotType': 'save',\n",
              "   'situation': 'assisted',\n",
              "   'playerCoordinates': {'x': 10.6, 'y': 73, 'z': 0},\n",
              "   'bodyPart': 'left-foot',\n",
              "   'goalMouthLocation': 'low-right',\n",
              "   'goalMouthCoordinates': {'x': 0, 'y': 46, 'z': 3.8},\n",
              "   'blockCoordinates': {'x': 1.5, 'y': 54.2, 'z': 0},\n",
              "   'xg': 0.03035057336092,\n",
              "   'xgot': 0.1829,\n",
              "   'id': 3262267,\n",
              "   'time': 90,\n",
              "   'timeSeconds': 5366,\n",
              "   'draw': {'start': {'x': 73, 'y': 10.6},\n",
              "    'block': {'x': 54.2, 'y': 1.5},\n",
              "    'end': {'x': 54, 'y': 0},\n",
              "    'goal': {'x': 54, 'y': 96.2}},\n",
              "   'reversedPeriodTime': 1,\n",
              "   'reversedPeriodTimeSeconds': 34,\n",
              "   'incidentType': 'shot'},\n",
              "  {'player': {'name': 'Alexander Sørloth',\n",
              "    'slug': 'alexander-sorloth',\n",
              "    'shortName': 'A. Sørloth',\n",
              "    'position': 'F',\n",
              "    'jerseyNumber': '11',\n",
              "    'userCount': 5195,\n",
              "    'id': 309078,\n",
              "    'fieldTranslations': {'nameTranslation': {'ar': 'سورلوث, ألكسندر'},\n",
              "     'shortNameTranslation': {'ar': 'أ. سورلوث'}}},\n",
              "   'isHome': True,\n",
              "   'shotType': 'miss',\n",
              "   'situation': 'assisted',\n",
              "   'playerCoordinates': {'x': 8.8, 'y': 52.8, 'z': 0},\n",
              "   'bodyPart': 'head',\n",
              "   'goalMouthLocation': 'left',\n",
              "   'goalMouthCoordinates': {'x': 0, 'y': 95.8, 'z': 6.9},\n",
              "   'xg': 0.10471783578396,\n",
              "   'id': 3262221,\n",
              "   'time': 83,\n",
              "   'timeSeconds': 4926,\n",
              "   'draw': {'start': {'x': 52.8, 'y': 8.8},\n",
              "    'end': {'x': 4.2, 'y': 0},\n",
              "    'goal': {'x': 4.2, 'y': 93.1}},\n",
              "   'reversedPeriodTime': 8,\n",
              "   'reversedPeriodTimeSeconds': 474,\n",
              "   'incidentType': 'shot'},\n",
              "  {'player': {'name': 'Étienne Capoue',\n",
              "    'firstName': '',\n",
              "    'lastName': '',\n",
              "    'slug': 'etienne-capoue',\n",
              "    'shortName': 'É. Capoue',\n",
              "    'position': 'M',\n",
              "    'jerseyNumber': '6',\n",
              "    'userCount': 824,\n",
              "    'id': 16701,\n",
              "    'fieldTranslations': {'nameTranslation': {'ar': 'كابوي, إتيان'},\n",
              "     'shortNameTranslation': {'ar': 'إ. كابوي'}}},\n",
              "   'isHome': True,\n",
              "   'shotType': 'block',\n",
              "   'situation': 'regular',\n",
              "   'playerCoordinates': {'x': 9.7, 'y': 50.3, 'z': 0},\n",
              "   'bodyPart': 'left-foot',\n",
              "   'goalMouthLocation': 'low-centre',\n",
              "   'goalMouthCoordinates': {'x': 0, 'y': 48.3, 'z': 19},\n",
              "   'blockCoordinates': {'x': 6.7, 'y': 50.7, 'z': 0},\n",
              "   'xg': 0.1305751055479,\n",
              "   'id': 3262266,\n",
              "   'time': 82,\n",
              "   'timeSeconds': 4913,\n",
              "   'draw': {'start': {'x': 50.3, 'y': 9.7},\n",
              "    'block': {'x': 50.7, 'y': 6.7},\n",
              "    'end': {'x': 51.7, 'y': 0},\n",
              "    'goal': {'x': 51.7, 'y': 81}},\n",
              "   'reversedPeriodTime': 9,\n",
              "   'reversedPeriodTimeSeconds': 487,\n",
              "   'incidentType': 'shot'},\n",
              "  {'player': {'name': 'Rodrygo',\n",
              "    'firstName': '',\n",
              "    'lastName': '',\n",
              "    'slug': 'rodrygo',\n",
              "    'shortName': 'Rodrygo',\n",
              "    'position': 'F',\n",
              "    'jerseyNumber': '11',\n",
              "    'userCount': 157850,\n",
              "    'id': 910536,\n",
              "    'fieldTranslations': {'nameTranslation': {'ar': 'رودريغو'},\n",
              "     'shortNameTranslation': {'ar': 'رودريغو'}}},\n",
              "   'isHome': False,\n",
              "   'shotType': 'post',\n",
              "   'situation': 'assisted',\n",
              "   'playerCoordinates': {'x': 3.5, 'y': 66, 'z': 0},\n",
              "   'bodyPart': 'right-foot',\n",
              "   'goalMouthLocation': 'right',\n",
              "   'goalMouthCoordinates': {'x': 0, 'y': 44.6, 'z': 3.2},\n",
              "   'xg': 0.061693113297224,\n",
              "   'id': 3262202,\n",
              "   'time': 79,\n",
              "   'timeSeconds': 4711,\n",
              "   'draw': {'start': {'x': 66, 'y': 3.5},\n",
              "    'end': {'x': 55.4, 'y': 0},\n",
              "    'goal': {'x': 55.4, 'y': 96.8}},\n",
              "   'reversedPeriodTime': 12,\n",
              "   'reversedPeriodTimeSeconds': 689,\n",
              "   'incidentType': 'shot'},\n",
              "  {'player': {'name': 'Bertrand Traoré',\n",
              "    'firstName': '',\n",
              "    'lastName': '',\n",
              "    'slug': 'bertrand-traore',\n",
              "    'shortName': 'B. Traoré',\n",
              "    'position': 'M',\n",
              "    'jerseyNumber': '25',\n",
              "    'userCount': 4868,\n",
              "    'id': 218160,\n",
              "    'fieldTranslations': {'nameTranslation': {'ar': 'برتران تراوري إيزيدور'},\n",
              "     'shortNameTranslation': {'ar': 'ب. ت. إيزيدور'}}},\n",
              "   'isHome': True,\n",
              "   'shotType': 'block',\n",
              "   'situation': 'set-piece',\n",
              "   'playerCoordinates': {'x': 21.8, 'y': 59.1, 'z': 0},\n",
              "   'bodyPart': 'left-foot',\n",
              "   'goalMouthLocation': 'low-left',\n",
              "   'goalMouthCoordinates': {'x': 0, 'y': 52.3, 'z': 19},\n",
              "   'blockCoordinates': {'x': 17.9, 'y': 57, 'z': 0},\n",
              "   'xg': 0.028778215870261,\n",
              "   'id': 3262136,\n",
              "   'time': 71,\n",
              "   'timeSeconds': 4204,\n",
              "   'draw': {'start': {'x': 59.1, 'y': 21.8},\n",
              "    'block': {'x': 57, 'y': 17.9},\n",
              "    'end': {'x': 47.7, 'y': 0},\n",
              "    'goal': {'x': 47.7, 'y': 81}},\n",
              "   'reversedPeriodTime': 20,\n",
              "   'reversedPeriodTimeSeconds': 1196,\n",
              "   'incidentType': 'shot'},\n",
              "  {'player': {'name': 'Dani Ceballos',\n",
              "    'slug': 'dani-ceballos',\n",
              "    'shortName': 'D. Ceballos',\n",
              "    'position': 'M',\n",
              "    'jerseyNumber': '19',\n",
              "    'userCount': 18148,\n",
              "    'id': 547838,\n",
              "    'fieldTranslations': {'nameTranslation': {'ar': 'سيبالوس, داني'},\n",
              "     'shortNameTranslation': {'ar': 'د. سيبالوس'}}},\n",
              "   'isHome': False,\n",
              "   'shotType': 'block',\n",
              "   'situation': 'assisted',\n",
              "   'playerCoordinates': {'x': 14.1, 'y': 65.6, 'z': 0},\n",
              "   'bodyPart': 'right-foot',\n",
              "   'goalMouthLocation': 'low-centre',\n",
              "   'goalMouthCoordinates': {'x': 0, 'y': 48.4, 'z': 19},\n",
              "   'blockCoordinates': {'x': 8.4, 'y': 59.9, 'z': 0},\n",
              "   'xg': 0.039490286260843,\n",
              "   'id': 3262095,\n",
              "   'time': 64,\n",
              "   'timeSeconds': 3813,\n",
              "   'draw': {'start': {'x': 65.6, 'y': 14.1},\n",
              "    'block': {'x': 59.9, 'y': 8.4},\n",
              "    'end': {'x': 51.6, 'y': 0},\n",
              "    'goal': {'x': 51.6, 'y': 81}},\n",
              "   'reversedPeriodTime': 27,\n",
              "   'reversedPeriodTimeSeconds': 1587,\n",
              "   'incidentType': 'shot'},\n",
              "  {'player': {'name': 'Arda Güler',\n",
              "    'firstName': 'Arda Guler',\n",
              "    'slug': 'arda-guler',\n",
              "    'shortName': 'A. Güler',\n",
              "    'position': 'M',\n",
              "    'jerseyNumber': '24',\n",
              "    'userCount': 105637,\n",
              "    'id': 1091116,\n",
              "    'fieldTranslations': {'nameTranslation': {'ar': 'غولر، أردا'},\n",
              "     'shortNameTranslation': {'ar': 'غ. أردا'}}},\n",
              "   'isHome': False,\n",
              "   'shotType': 'miss',\n",
              "   'situation': 'assisted',\n",
              "   'playerCoordinates': {'x': 15, 'y': 71, 'z': 0},\n",
              "   'bodyPart': 'left-foot',\n",
              "   'goalMouthLocation': 'high-left',\n",
              "   'goalMouthCoordinates': {'x': 0, 'y': 59.7, 'z': 54.2},\n",
              "   'xg': 0.029785184189677,\n",
              "   'id': 3262085,\n",
              "   'time': 63,\n",
              "   'timeSeconds': 3752,\n",
              "   'draw': {'start': {'x': 71, 'y': 15},\n",
              "    'end': {'x': 40.3, 'y': 0},\n",
              "    'goal': {'x': 40.3, 'y': 45.8}},\n",
              "   'reversedPeriodTime': 28,\n",
              "   'reversedPeriodTimeSeconds': 1648,\n",
              "   'incidentType': 'shot'},\n",
              "  {'player': {'name': 'Gonçalo Guedes',\n",
              "    'firstName': '',\n",
              "    'lastName': '',\n",
              "    'slug': 'goncalo-guedes',\n",
              "    'shortName': 'G. Guedes',\n",
              "    'position': 'F',\n",
              "    'jerseyNumber': '9',\n",
              "    'userCount': 4098,\n",
              "    'id': 280979,\n",
              "    'fieldTranslations': {'nameTranslation': {'ar': 'جيديس, جونكالو'},\n",
              "     'shortNameTranslation': {'ar': 'ج. جيديس'}}},\n",
              "   'isHome': True,\n",
              "   'shotType': 'miss',\n",
              "   'situation': 'regular',\n",
              "   'playerCoordinates': {'x': 20.4, 'y': 27, 'z': 0},\n",
              "   'bodyPart': 'right-foot',\n",
              "   'goalMouthLocation': 'right',\n",
              "   'goalMouthCoordinates': {'x': 0, 'y': 0.3, 'z': 5.6},\n",
              "   'blockCoordinates': {'x': 23.2, 'y': 60.7, 'z': 0},\n",
              "   'xg': 0.012056016363204,\n",
              "   'id': 3262112,\n",
              "   'time': 58,\n",
              "   'timeSeconds': 3442,\n",
              "   'draw': {'start': {'x': 27, 'y': 20.4},\n",
              "    'block': {'x': 60.7, 'y': 23.2},\n",
              "    'end': {'x': 99.7, 'y': 0},\n",
              "    'goal': {'x': 99.7, 'y': 94.4}},\n",
              "   'reversedPeriodTime': 33,\n",
              "   'reversedPeriodTimeSeconds': 1958,\n",
              "   'incidentType': 'shot'},\n",
              "  {'player': {'name': 'Alexander Sørloth',\n",
              "    'slug': 'alexander-sorloth',\n",
              "    'shortName': 'A. Sørloth',\n",
              "    'position': 'F',\n",
              "    'jerseyNumber': '11',\n",
              "    'userCount': 5195,\n",
              "    'id': 309078,\n",
              "    'fieldTranslations': {'nameTranslation': {'ar': 'سورلوث, ألكسندر'},\n",
              "     'shortNameTranslation': {'ar': 'أ. سورلوث'}}},\n",
              "   'isHome': True,\n",
              "   'shotType': 'goal',\n",
              "   'goalType': 'regular',\n",
              "   'situation': 'fast-break',\n",
              "   'playerCoordinates': {'x': 10.2, 'y': 44.1, 'z': 0},\n",
              "   'bodyPart': 'left-foot',\n",
              "   'goalMouthLocation': 'low-right',\n",
              "   'goalMouthCoordinates': {'x': 0, 'y': 46.6, 'z': 6.3},\n",
              "   'xg': 0.21614544093609,\n",
              "   'xgot': 0.8968,\n",
              "   'id': 3262051,\n",
              "   'time': 56,\n",
              "   'timeSeconds': 3357,\n",
              "   'draw': {'start': {'x': 44.1, 'y': 10.2},\n",
              "    'end': {'x': 53.4, 'y': 0},\n",
              "    'goal': {'x': 53.4, 'y': 93.7}},\n",
              "   'reversedPeriodTime': 35,\n",
              "   'reversedPeriodTimeSeconds': 2043,\n",
              "   'incidentType': 'shot'},\n",
              "  {'player': {'name': 'Alexander Sørloth',\n",
              "    'slug': 'alexander-sorloth',\n",
              "    'shortName': 'A. Sørloth',\n",
              "    'position': 'F',\n",
              "    'jerseyNumber': '11',\n",
              "    'userCount': 5195,\n",
              "    'id': 309078,\n",
              "    'fieldTranslations': {'nameTranslation': {'ar': 'سورلوث, ألكسندر'},\n",
              "     'shortNameTranslation': {'ar': 'أ. سورلوث'}}},\n",
              "   'isHome': True,\n",
              "   'shotType': 'miss',\n",
              "   'situation': 'assisted',\n",
              "   'playerCoordinates': {'x': 10.6, 'y': 47.3, 'z': 0},\n",
              "   'bodyPart': 'left-foot',\n",
              "   'goalMouthLocation': 'right',\n",
              "   'goalMouthCoordinates': {'x': 0, 'y': 36.8, 'z': 12.5},\n",
              "   'xg': 0.22227329015732,\n",
              "   'id': 3262036,\n",
              "   'time': 54,\n",
              "   'timeSeconds': 3221,\n",
              "   'draw': {'start': {'x': 47.3, 'y': 10.6},\n",
              "    'end': {'x': 63.2, 'y': 0},\n",
              "    'goal': {'x': 63.2, 'y': 87.5}},\n",
              "   'reversedPeriodTime': 37,\n",
              "   'reversedPeriodTimeSeconds': 2179,\n",
              "   'incidentType': 'shot'},\n",
              "  {'player': {'name': 'Alexander Sørloth',\n",
              "    'slug': 'alexander-sorloth',\n",
              "    'shortName': 'A. Sørloth',\n",
              "    'position': 'F',\n",
              "    'jerseyNumber': '11',\n",
              "    'userCount': 5195,\n",
              "    'id': 309078,\n",
              "    'fieldTranslations': {'nameTranslation': {'ar': 'سورلوث, ألكسندر'},\n",
              "     'shortNameTranslation': {'ar': 'أ. سورلوث'}}},\n",
              "   'isHome': True,\n",
              "   'shotType': 'goal',\n",
              "   'goalType': 'regular',\n",
              "   'situation': 'regular',\n",
              "   'playerCoordinates': {'x': 9.4, 'y': 55.5, 'z': 0},\n",
              "   'bodyPart': 'left-foot',\n",
              "   'goalMouthLocation': 'low-left',\n",
              "   'goalMouthCoordinates': {'x': 0, 'y': 52, 'z': 4.4},\n",
              "   'xg': 0.62197232246399,\n",
              "   'xgot': 0.7748,\n",
              "   'id': 3262034,\n",
              "   'time': 52,\n",
              "   'timeSeconds': 3106,\n",
              "   'draw': {'start': {'x': 55.5, 'y': 9.4},\n",
              "    'end': {'x': 48, 'y': 0},\n",
              "    'goal': {'x': 48, 'y': 95.6}},\n",
              "   'reversedPeriodTime': 39,\n",
              "   'reversedPeriodTimeSeconds': 2294,\n",
              "   'incidentType': 'shot'},\n",
              "  {'player': {'name': 'Alexander Sørloth',\n",
              "    'slug': 'alexander-sorloth',\n",
              "    'shortName': 'A. Sørloth',\n",
              "    'position': 'F',\n",
              "    'jerseyNumber': '11',\n",
              "    'userCount': 5195,\n",
              "    'id': 309078,\n",
              "    'fieldTranslations': {'nameTranslation': {'ar': 'سورلوث, ألكسندر'},\n",
              "     'shortNameTranslation': {'ar': 'أ. سورلوث'}}},\n",
              "   'isHome': True,\n",
              "   'shotType': 'block',\n",
              "   'situation': 'assisted',\n",
              "   'playerCoordinates': {'x': 13, 'y': 59.8, 'z': 0},\n",
              "   'bodyPart': 'right-foot',\n",
              "   'goalMouthLocation': 'low-right',\n",
              "   'goalMouthCoordinates': {'x': 0, 'y': 46, 'z': 19},\n",
              "   'blockCoordinates': {'x': 10.9, 'y': 58.8, 'z': 0},\n",
              "   'xg': 0.05635979399085,\n",
              "   'id': 3262033,\n",
              "   'time': 52,\n",
              "   'timeSeconds': 3105,\n",
              "   'draw': {'start': {'x': 59.8, 'y': 13},\n",
              "    'block': {'x': 58.8, 'y': 10.9},\n",
              "    'end': {'x': 54, 'y': 0},\n",
              "    'goal': {'x': 54, 'y': 81}},\n",
              "   'reversedPeriodTime': 39,\n",
              "   'reversedPeriodTimeSeconds': 2295,\n",
              "   'incidentType': 'shot'},\n",
              "  {'player': {'name': 'Luka Modrić',\n",
              "    'slug': 'luka-modric',\n",
              "    'shortName': 'L. Modrić',\n",
              "    'position': 'M',\n",
              "    'jerseyNumber': '10',\n",
              "    'userCount': 160803,\n",
              "    'id': 15466,\n",
              "    'fieldTranslations': {'nameTranslation': {'ar': 'مودريتش, لوكا'},\n",
              "     'shortNameTranslation': {'ar': 'ل. مودريتش'}}},\n",
              "   'isHome': False,\n",
              "   'shotType': 'miss',\n",
              "   'situation': 'assisted',\n",
              "   'playerCoordinates': {'x': 21.9, 'y': 64.1, 'z': 0},\n",
              "   'bodyPart': 'right-foot',\n",
              "   'goalMouthLocation': 'close-left',\n",
              "   'goalMouthCoordinates': {'x': 0, 'y': 58.3, 'z': 19.4},\n",
              "   'xg': 0.037798229604959,\n",
              "   'id': 3262013,\n",
              "   'time': 50,\n",
              "   'timeSeconds': 2980,\n",
              "   'draw': {'start': {'x': 64.1, 'y': 21.9},\n",
              "    'end': {'x': 41.7, 'y': 0},\n",
              "    'goal': {'x': 41.7, 'y': 80.6}},\n",
              "   'reversedPeriodTime': 41,\n",
              "   'reversedPeriodTimeSeconds': 2420,\n",
              "   'incidentType': 'shot'},\n",
              "  {'player': {'name': 'Alexander Sørloth',\n",
              "    'slug': 'alexander-sorloth',\n",
              "    'shortName': 'A. Sørloth',\n",
              "    'position': 'F',\n",
              "    'jerseyNumber': '11',\n",
              "    'userCount': 5195,\n",
              "    'id': 309078,\n",
              "    'fieldTranslations': {'nameTranslation': {'ar': 'سورلوث, ألكسندر'},\n",
              "     'shortNameTranslation': {'ar': 'أ. سورلوث'}}},\n",
              "   'isHome': True,\n",
              "   'shotType': 'goal',\n",
              "   'goalType': 'regular',\n",
              "   'situation': 'assisted',\n",
              "   'playerCoordinates': {'x': 8.1, 'y': 48.8, 'z': 0},\n",
              "   'bodyPart': 'head',\n",
              "   'goalMouthLocation': 'low-left',\n",
              "   'goalMouthCoordinates': {'x': 0, 'y': 53.8, 'z': 9.5},\n",
              "   'xg': 0.094280317425728,\n",
              "   'xgot': 0.6728,\n",
              "   'id': 3262005,\n",
              "   'time': 48,\n",
              "   'timeSeconds': 2829,\n",
              "   'draw': {'start': {'x': 48.8, 'y': 8.1},\n",
              "    'end': {'x': 46.2, 'y': 0},\n",
              "    'goal': {'x': 46.2, 'y': 90.5}},\n",
              "   'reversedPeriodTime': 43,\n",
              "   'reversedPeriodTimeSeconds': 2571,\n",
              "   'incidentType': 'shot'},\n",
              "  {'player': {'name': 'Alexander Sørloth',\n",
              "    'slug': 'alexander-sorloth',\n",
              "    'shortName': 'A. Sørloth',\n",
              "    'position': 'F',\n",
              "    'jerseyNumber': '11',\n",
              "    'userCount': 5195,\n",
              "    'id': 309078,\n",
              "    'fieldTranslations': {'nameTranslation': {'ar': 'سورلوث, ألكسندر'},\n",
              "     'shortNameTranslation': {'ar': 'أ. سورلوث'}}},\n",
              "   'isHome': True,\n",
              "   'shotType': 'block',\n",
              "   'situation': 'assisted',\n",
              "   'playerCoordinates': {'x': 15.2, 'y': 59.4, 'z': 0},\n",
              "   'bodyPart': 'right-foot',\n",
              "   'goalMouthLocation': 'low-centre',\n",
              "   'goalMouthCoordinates': {'x': 0, 'y': 49.3, 'z': 19},\n",
              "   'blockCoordinates': {'x': 12.7, 'y': 57.9, 'z': 0},\n",
              "   'xg': 0.045447301119566,\n",
              "   'id': 3261937,\n",
              "   'time': 45,\n",
              "   'addedTime': 4,\n",
              "   'timeSeconds': 2902,\n",
              "   'draw': {'start': {'x': 59.4, 'y': 15.2},\n",
              "    'block': {'x': 57.9, 'y': 12.7},\n",
              "    'end': {'x': 50.7, 'y': 0},\n",
              "    'goal': {'x': 50.7, 'y': 81}},\n",
              "   'reversedPeriodTime': 1,\n",
              "   'reversedPeriodTimeSeconds': 2498,\n",
              "   'incidentType': 'shot'},\n",
              "  {'player': {'name': 'Arda Güler',\n",
              "    'firstName': 'Arda Guler',\n",
              "    'slug': 'arda-guler',\n",
              "    'shortName': 'A. Güler',\n",
              "    'position': 'M',\n",
              "    'jerseyNumber': '24',\n",
              "    'userCount': 105637,\n",
              "    'id': 1091116,\n",
              "    'fieldTranslations': {'nameTranslation': {'ar': 'غولر، أردا'},\n",
              "     'shortNameTranslation': {'ar': 'غ. أردا'}}},\n",
              "   'isHome': False,\n",
              "   'shotType': 'goal',\n",
              "   'goalType': 'regular',\n",
              "   'situation': 'assisted',\n",
              "   'playerCoordinates': {'x': 5.6, 'y': 64.2, 'z': 0},\n",
              "   'bodyPart': 'left-foot',\n",
              "   'goalMouthLocation': 'low-left',\n",
              "   'goalMouthCoordinates': {'x': 0, 'y': 52.3, 'z': 11.4},\n",
              "   'xg': 0.13199934363365,\n",
              "   'xgot': 0.4392,\n",
              "   'id': 3261930,\n",
              "   'time': 45,\n",
              "   'addedTime': 2,\n",
              "   'timeSeconds': 2799,\n",
              "   'draw': {'start': {'x': 64.2, 'y': 5.6},\n",
              "    'end': {'x': 47.7, 'y': 0},\n",
              "    'goal': {'x': 47.7, 'y': 88.6}},\n",
              "   'reversedPeriodTime': 1,\n",
              "   'reversedPeriodTimeSeconds': 2601,\n",
              "   'incidentType': 'shot'},\n",
              "  {'player': {'name': 'Antonio Rüdiger',\n",
              "    'slug': 'antonio-rudiger',\n",
              "    'shortName': 'A. Rüdiger',\n",
              "    'position': 'D',\n",
              "    'jerseyNumber': '22',\n",
              "    'userCount': 40338,\n",
              "    'id': 142622,\n",
              "    'fieldTranslations': {'nameTranslation': {'ar': 'روديغر, أنطونيو'},\n",
              "     'shortNameTranslation': {'ar': 'أ. روديغر'}}},\n",
              "   'isHome': False,\n",
              "   'shotType': 'miss',\n",
              "   'situation': 'corner',\n",
              "   'playerCoordinates': {'x': 13.1, 'y': 49.5, 'z': 0},\n",
              "   'bodyPart': 'head',\n",
              "   'goalMouthLocation': 'close-high',\n",
              "   'goalMouthCoordinates': {'x': 0, 'y': 50.1, 'z': 58.3},\n",
              "   'xg': 0.015524251386523,\n",
              "   'id': 3261904,\n",
              "   'time': 44,\n",
              "   'timeSeconds': 2637,\n",
              "   'draw': {'start': {'x': 49.5, 'y': 13.1},\n",
              "    'end': {'x': 49.9, 'y': 0},\n",
              "    'goal': {'x': 49.9, 'y': 41.7}},\n",
              "   'reversedPeriodTime': 2,\n",
              "   'reversedPeriodTimeSeconds': 63,\n",
              "   'incidentType': 'shot'},\n",
              "  {'player': {'name': 'Santi Comesaña',\n",
              "    'firstName': '',\n",
              "    'lastName': '',\n",
              "    'slug': 'santi-comesana',\n",
              "    'shortName': 'S. Comesaña',\n",
              "    'position': 'M',\n",
              "    'jerseyNumber': '4',\n",
              "    'userCount': 507,\n",
              "    'id': 843678,\n",
              "    'fieldTranslations': {'nameTranslation': {'ar': 'كوميسانا ، سانتي'},\n",
              "     'shortNameTranslation': {'ar': 'ك. ، سانتي'}}},\n",
              "   'isHome': True,\n",
              "   'shotType': 'miss',\n",
              "   'situation': 'assisted',\n",
              "   'playerCoordinates': {'x': 8.6, 'y': 52.5, 'z': 0},\n",
              "   'bodyPart': 'head',\n",
              "   'goalMouthLocation': 'left',\n",
              "   'goalMouthCoordinates': {'x': 0, 'y': 91.9, 'z': 23.6},\n",
              "   'blockCoordinates': {'x': 4.9, 'y': 13, 'z': 0},\n",
              "   'xg': 0.085531078279018,\n",
              "   'id': 3261896,\n",
              "   'time': 43,\n",
              "   'timeSeconds': 2529,\n",
              "   'draw': {'start': {'x': 52.5, 'y': 8.6},\n",
              "    'block': {'x': 13, 'y': 4.9},\n",
              "    'end': {'x': 8.1, 'y': 0},\n",
              "    'goal': {'x': 8.1, 'y': 76.4}},\n",
              "   'reversedPeriodTime': 3,\n",
              "   'reversedPeriodTimeSeconds': 171,\n",
              "   'incidentType': 'shot'},\n",
              "  {'player': {'name': 'Lucas Vázquez',\n",
              "    'firstName': '',\n",
              "    'lastName': '',\n",
              "    'slug': 'lucas-vazquez',\n",
              "    'shortName': 'L. Vázquez',\n",
              "    'position': 'D',\n",
              "    'jerseyNumber': '17',\n",
              "    'userCount': 19479,\n",
              "    'id': 255239,\n",
              "    'fieldTranslations': {'nameTranslation': {'ar': 'فاسكويز, لوكاس'},\n",
              "     'shortNameTranslation': {'ar': 'ل. فاسكويز'}}},\n",
              "   'isHome': False,\n",
              "   'shotType': 'goal',\n",
              "   'goalType': 'regular',\n",
              "   'situation': 'assisted',\n",
              "   'playerCoordinates': {'x': 10.8, 'y': 42.9, 'z': 0},\n",
              "   'bodyPart': 'left-foot',\n",
              "   'goalMouthLocation': 'low-right',\n",
              "   'goalMouthCoordinates': {'x': 0, 'y': 47.4, 'z': 6.3},\n",
              "   'xg': 0.14737416803837,\n",
              "   'xgot': 0.2732,\n",
              "   'id': 3261887,\n",
              "   'time': 40,\n",
              "   'timeSeconds': 2391,\n",
              "   'draw': {'start': {'x': 42.9, 'y': 10.8},\n",
              "    'end': {'x': 52.6, 'y': 0},\n",
              "    'goal': {'x': 52.6, 'y': 93.7}},\n",
              "   'reversedPeriodTime': 6,\n",
              "   'reversedPeriodTimeSeconds': 309,\n",
              "   'incidentType': 'shot'},\n",
              "  {'player': {'name': 'Alexander Sørloth',\n",
              "    'slug': 'alexander-sorloth',\n",
              "    'shortName': 'A. Sørloth',\n",
              "    'position': 'F',\n",
              "    'jerseyNumber': '11',\n",
              "    'userCount': 5195,\n",
              "    'id': 309078,\n",
              "    'fieldTranslations': {'nameTranslation': {'ar': 'سورلوث, ألكسندر'},\n",
              "     'shortNameTranslation': {'ar': 'أ. سورلوث'}}},\n",
              "   'isHome': True,\n",
              "   'shotType': 'goal',\n",
              "   'goalType': 'regular',\n",
              "   'situation': 'assisted',\n",
              "   'playerCoordinates': {'x': 9.6, 'y': 49, 'z': 0},\n",
              "   'bodyPart': 'head',\n",
              "   'goalMouthLocation': 'low-left',\n",
              "   'goalMouthCoordinates': {'x': 0, 'y': 53.2, 'z': 7},\n",
              "   'xg': 0.079525552690029,\n",
              "   'xgot': 0.221,\n",
              "   'id': 3261876,\n",
              "   'time': 39,\n",
              "   'timeSeconds': 2296,\n",
              "   'draw': {'start': {'x': 49, 'y': 9.6},\n",
              "    'end': {'x': 46.8, 'y': 0},\n",
              "    'goal': {'x': 46.8, 'y': 93}},\n",
              "   'reversedPeriodTime': 7,\n",
              "   'reversedPeriodTimeSeconds': 404,\n",
              "   'incidentType': 'shot'},\n",
              "  {'player': {'name': 'Joselu',\n",
              "    'slug': 'joselu',\n",
              "    'shortName': 'Joselu',\n",
              "    'position': 'F',\n",
              "    'jerseyNumber': '14',\n",
              "    'userCount': 24144,\n",
              "    'id': 69418,\n",
              "    'fieldTranslations': {'nameTranslation': {'ar': 'خوسيلو'},\n",
              "     'shortNameTranslation': {'ar': 'خوسيلو'}}},\n",
              "   'isHome': False,\n",
              "   'shotType': 'goal',\n",
              "   'goalType': 'regular',\n",
              "   'situation': 'assisted',\n",
              "   'playerCoordinates': {'x': 4.2, 'y': 57.1, 'z': 0},\n",
              "   'bodyPart': 'head',\n",
              "   'goalMouthLocation': 'high-centre',\n",
              "   'goalMouthCoordinates': {'x': 0, 'y': 50, 'z': 24.7},\n",
              "   'xg': 0.34354537725449,\n",
              "   'xgot': 0.1948,\n",
              "   'id': 3261828,\n",
              "   'time': 30,\n",
              "   'timeSeconds': 1779,\n",
              "   'draw': {'start': {'x': 57.1, 'y': 4.2},\n",
              "    'end': {'x': 50, 'y': 0},\n",
              "    'goal': {'x': 50, 'y': 75.3}},\n",
              "   'reversedPeriodTime': 16,\n",
              "   'reversedPeriodTimeSeconds': 921,\n",
              "   'incidentType': 'shot'},\n",
              "  {'player': {'name': 'Yerson Mosquera',\n",
              "    'slug': 'yerson-mosquera',\n",
              "    'shortName': 'Y. Mosquera',\n",
              "    'position': 'D',\n",
              "    'jerseyNumber': '2',\n",
              "    'userCount': 1027,\n",
              "    'id': 1014835,\n",
              "    'fieldTranslations': {'nameTranslation': {'ar': 'موسكيرا ، يرسون'},\n",
              "     'shortNameTranslation': {'ar': 'م. ، يرسون'}}},\n",
              "   'isHome': True,\n",
              "   'shotType': 'save',\n",
              "   'situation': 'corner',\n",
              "   'playerCoordinates': {'x': 4.8, 'y': 43.3, 'z': 0},\n",
              "   'bodyPart': 'head',\n",
              "   'goalMouthLocation': 'low-left',\n",
              "   'goalMouthCoordinates': {'x': 0, 'y': 53.2, 'z': 7.6},\n",
              "   'blockCoordinates': {'x': 0.7, 'y': 49.3, 'z': 0},\n",
              "   'xg': 0.1064680442214,\n",
              "   'xgot': 0.2057,\n",
              "   'id': 3261802,\n",
              "   'time': 23,\n",
              "   'timeSeconds': 1377,\n",
              "   'draw': {'start': {'x': 43.3, 'y': 4.8},\n",
              "    'block': {'x': 49.3, 'y': 0.7},\n",
              "    'end': {'x': 46.8, 'y': 0},\n",
              "    'goal': {'x': 46.8, 'y': 92.4}},\n",
              "   'reversedPeriodTime': 23,\n",
              "   'reversedPeriodTimeSeconds': 1323,\n",
              "   'incidentType': 'shot'},\n",
              "  {'player': {'name': 'Gonçalo Guedes',\n",
              "    'firstName': '',\n",
              "    'lastName': '',\n",
              "    'slug': 'goncalo-guedes',\n",
              "    'shortName': 'G. Guedes',\n",
              "    'position': 'F',\n",
              "    'jerseyNumber': '9',\n",
              "    'userCount': 4098,\n",
              "    'id': 280979,\n",
              "    'fieldTranslations': {'nameTranslation': {'ar': 'جيديس, جونكالو'},\n",
              "     'shortNameTranslation': {'ar': 'ج. جيديس'}}},\n",
              "   'isHome': True,\n",
              "   'shotType': 'block',\n",
              "   'situation': 'assisted',\n",
              "   'playerCoordinates': {'x': 15.1, 'y': 40.1, 'z': 0},\n",
              "   'bodyPart': 'right-foot',\n",
              "   'goalMouthLocation': 'low-centre',\n",
              "   'goalMouthCoordinates': {'x': 0, 'y': 49.4, 'z': 19},\n",
              "   'blockCoordinates': {'x': 12.3, 'y': 42.1, 'z': 0},\n",
              "   'xg': 0.036907151341438,\n",
              "   'id': 3261798,\n",
              "   'time': 23,\n",
              "   'timeSeconds': 1352,\n",
              "   'draw': {'start': {'x': 40.1, 'y': 15.1},\n",
              "    'block': {'x': 42.1, 'y': 12.3},\n",
              "    'end': {'x': 50.6, 'y': 0},\n",
              "    'goal': {'x': 50.6, 'y': 81}},\n",
              "   'reversedPeriodTime': 23,\n",
              "   'reversedPeriodTimeSeconds': 1348,\n",
              "   'incidentType': 'shot'},\n",
              "  {'player': {'name': 'Ilias Akhomach',\n",
              "    'firstName': '',\n",
              "    'lastName': '',\n",
              "    'slug': 'ilias-akhomach',\n",
              "    'shortName': 'I. Akhomach',\n",
              "    'position': 'M',\n",
              "    'jerseyNumber': '27',\n",
              "    'userCount': 5847,\n",
              "    'id': 1089108,\n",
              "    'fieldTranslations': {'nameTranslation': {'ar': 'الياس اخوماش'},\n",
              "     'shortNameTranslation': {'ar': 'ا. اخوماش'}}},\n",
              "   'isHome': True,\n",
              "   'shotType': 'miss',\n",
              "   'situation': 'assisted',\n",
              "   'playerCoordinates': {'x': 15.2, 'y': 74.5, 'z': 0},\n",
              "   'bodyPart': 'left-foot',\n",
              "   'goalMouthLocation': 'high-left',\n",
              "   'goalMouthCoordinates': {'x': 0, 'y': 61.5, 'z': 86.1},\n",
              "   'xg': 0.025934483855963,\n",
              "   'id': 3261785,\n",
              "   'time': 20,\n",
              "   'timeSeconds': 1151,\n",
              "   'draw': {'start': {'x': 74.5, 'y': 15.2},\n",
              "    'end': {'x': 38.5, 'y': 0},\n",
              "    'goal': {'x': 38.5, 'y': 13.9}},\n",
              "   'reversedPeriodTime': 26,\n",
              "   'reversedPeriodTimeSeconds': 1549,\n",
              "   'incidentType': 'shot'},\n",
              "  {'player': {'name': 'Brahim Díaz',\n",
              "    'slug': 'brahim-diaz',\n",
              "    'shortName': 'B. Díaz',\n",
              "    'position': 'M',\n",
              "    'jerseyNumber': '21',\n",
              "    'userCount': 48471,\n",
              "    'id': 835485,\n",
              "    'fieldTranslations': {'nameTranslation': {'ar': 'دياز, إبراهيم'},\n",
              "     'shortNameTranslation': {'ar': 'إ. دياز'}}},\n",
              "   'isHome': False,\n",
              "   'shotType': 'save',\n",
              "   'situation': 'assisted',\n",
              "   'playerCoordinates': {'x': 21.9, 'y': 49.1, 'z': 0},\n",
              "   'bodyPart': 'right-foot',\n",
              "   'goalMouthLocation': 'low-centre',\n",
              "   'goalMouthCoordinates': {'x': 0, 'y': 51.6, 'z': 14.6},\n",
              "   'blockCoordinates': {'x': 1, 'y': 49.6, 'z': 0},\n",
              "   'xg': 0.049012556672096,\n",
              "   'xgot': 0.047,\n",
              "   'id': 3261778,\n",
              "   'time': 18,\n",
              "   'timeSeconds': 1072,\n",
              "   'draw': {'start': {'x': 49.1, 'y': 21.9},\n",
              "    'block': {'x': 49.6, 'y': 1},\n",
              "    'end': {'x': 48.4, 'y': 0},\n",
              "    'goal': {'x': 48.4, 'y': 85.4}},\n",
              "   'reversedPeriodTime': 28,\n",
              "   'reversedPeriodTimeSeconds': 1628,\n",
              "   'incidentType': 'shot'},\n",
              "  {'player': {'name': 'Santi Comesaña',\n",
              "    'firstName': '',\n",
              "    'lastName': '',\n",
              "    'slug': 'santi-comesana',\n",
              "    'shortName': 'S. Comesaña',\n",
              "    'position': 'M',\n",
              "    'jerseyNumber': '4',\n",
              "    'userCount': 507,\n",
              "    'id': 843678,\n",
              "    'fieldTranslations': {'nameTranslation': {'ar': 'كوميسانا ، سانتي'},\n",
              "     'shortNameTranslation': {'ar': 'ك. ، سانتي'}}},\n",
              "   'isHome': True,\n",
              "   'shotType': 'save',\n",
              "   'situation': 'assisted',\n",
              "   'playerCoordinates': {'x': 12, 'y': 61.7, 'z': 0},\n",
              "   'bodyPart': 'head',\n",
              "   'goalMouthLocation': 'low-left',\n",
              "   'goalMouthCoordinates': {'x': 0, 'y': 52.2, 'z': 6.3},\n",
              "   'blockCoordinates': {'x': 1.4, 'y': 52.5, 'z': 0},\n",
              "   'xg': 0.016203988343477,\n",
              "   'xgot': 0.1165,\n",
              "   'id': 3261773,\n",
              "   'time': 18,\n",
              "   'timeSeconds': 1039,\n",
              "   'draw': {'start': {'x': 61.7, 'y': 12},\n",
              "    'block': {'x': 52.5, 'y': 1.4},\n",
              "    'end': {'x': 47.8, 'y': 0},\n",
              "    'goal': {'x': 47.8, 'y': 93.7}},\n",
              "   'reversedPeriodTime': 28,\n",
              "   'reversedPeriodTimeSeconds': 1661,\n",
              "   'incidentType': 'shot'},\n",
              "  {'player': {'name': 'Arda Güler',\n",
              "    'firstName': 'Arda Guler',\n",
              "    'slug': 'arda-guler',\n",
              "    'shortName': 'A. Güler',\n",
              "    'position': 'M',\n",
              "    'jerseyNumber': '24',\n",
              "    'userCount': 105637,\n",
              "    'id': 1091116,\n",
              "    'fieldTranslations': {'nameTranslation': {'ar': 'غولر، أردا'},\n",
              "     'shortNameTranslation': {'ar': 'غ. أردا'}}},\n",
              "   'isHome': False,\n",
              "   'shotType': 'goal',\n",
              "   'goalType': 'regular',\n",
              "   'situation': 'assisted',\n",
              "   'playerCoordinates': {'x': 12.6, 'y': 45.1, 'z': 0},\n",
              "   'bodyPart': 'left-foot',\n",
              "   'goalMouthLocation': 'low-right',\n",
              "   'goalMouthCoordinates': {'x': 0, 'y': 46.6, 'z': 5.7},\n",
              "   'xg': 0.34943374991417,\n",
              "   'xgot': 0.7154,\n",
              "   'id': 3261756,\n",
              "   'time': 14,\n",
              "   'timeSeconds': 831,\n",
              "   'draw': {'start': {'x': 45.1, 'y': 12.6},\n",
              "    'end': {'x': 53.4, 'y': 0},\n",
              "    'goal': {'x': 53.4, 'y': 94.3}},\n",
              "   'reversedPeriodTime': 32,\n",
              "   'reversedPeriodTimeSeconds': 1869,\n",
              "   'incidentType': 'shot'},\n",
              "  {'player': {'name': 'Arda Güler',\n",
              "    'firstName': 'Arda Guler',\n",
              "    'slug': 'arda-guler',\n",
              "    'shortName': 'A. Güler',\n",
              "    'position': 'M',\n",
              "    'jerseyNumber': '24',\n",
              "    'userCount': 105637,\n",
              "    'id': 1091116,\n",
              "    'fieldTranslations': {'nameTranslation': {'ar': 'غولر، أردا'},\n",
              "     'shortNameTranslation': {'ar': 'غ. أردا'}}},\n",
              "   'isHome': False,\n",
              "   'shotType': 'block',\n",
              "   'situation': 'corner',\n",
              "   'playerCoordinates': {'x': 26.7, 'y': 66.3, 'z': 0},\n",
              "   'bodyPart': 'left-foot',\n",
              "   'goalMouthLocation': 'low-centre',\n",
              "   'goalMouthCoordinates': {'x': 0, 'y': 49.8, 'z': 19},\n",
              "   'blockCoordinates': {'x': 16.4, 'y': 60.1, 'z': 0},\n",
              "   'xg': 0.014188730157912,\n",
              "   'id': 3261759,\n",
              "   'time': 13,\n",
              "   'timeSeconds': 748,\n",
              "   'draw': {'start': {'x': 66.3, 'y': 26.7},\n",
              "    'block': {'x': 60.1, 'y': 16.4},\n",
              "    'end': {'x': 50.2, 'y': 0},\n",
              "    'goal': {'x': 50.2, 'y': 81}},\n",
              "   'reversedPeriodTime': 33,\n",
              "   'reversedPeriodTimeSeconds': 1952,\n",
              "   'incidentType': 'shot'},\n",
              "  {'player': {'name': 'Gonçalo Guedes',\n",
              "    'firstName': '',\n",
              "    'lastName': '',\n",
              "    'slug': 'goncalo-guedes',\n",
              "    'shortName': 'G. Guedes',\n",
              "    'position': 'F',\n",
              "    'jerseyNumber': '9',\n",
              "    'userCount': 4098,\n",
              "    'id': 280979,\n",
              "    'fieldTranslations': {'nameTranslation': {'ar': 'جيديس, جونكالو'},\n",
              "     'shortNameTranslation': {'ar': 'ج. جيديس'}}},\n",
              "   'isHome': True,\n",
              "   'shotType': 'block',\n",
              "   'situation': 'regular',\n",
              "   'playerCoordinates': {'x': 21.5, 'y': 47.2, 'z': 0},\n",
              "   'bodyPart': 'right-foot',\n",
              "   'goalMouthLocation': 'low-centre',\n",
              "   'goalMouthCoordinates': {'x': 0, 'y': 50, 'z': 19},\n",
              "   'blockCoordinates': {'x': 15.3, 'y': 48, 'z': 0},\n",
              "   'xg': 0.047153230756521,\n",
              "   'id': 3261725,\n",
              "   'time': 10,\n",
              "   'timeSeconds': 561,\n",
              "   'draw': {'start': {'x': 47.2, 'y': 21.5},\n",
              "    'block': {'x': 48, 'y': 15.3},\n",
              "    'end': {'x': 50, 'y': 0},\n",
              "    'goal': {'x': 50, 'y': 81}},\n",
              "   'reversedPeriodTime': 36,\n",
              "   'reversedPeriodTimeSeconds': 2139,\n",
              "   'incidentType': 'shot'},\n",
              "  {'player': {'name': 'Ilias Akhomach',\n",
              "    'firstName': '',\n",
              "    'lastName': '',\n",
              "    'slug': 'ilias-akhomach',\n",
              "    'shortName': 'I. Akhomach',\n",
              "    'position': 'M',\n",
              "    'jerseyNumber': '27',\n",
              "    'userCount': 5847,\n",
              "    'id': 1089108,\n",
              "    'fieldTranslations': {'nameTranslation': {'ar': 'الياس اخوماش'},\n",
              "     'shortNameTranslation': {'ar': 'ا. اخوماش'}}},\n",
              "   'isHome': True,\n",
              "   'shotType': 'block',\n",
              "   'situation': 'assisted',\n",
              "   'playerCoordinates': {'x': 11.7, 'y': 71.5, 'z': 0},\n",
              "   'bodyPart': 'right-foot',\n",
              "   'goalMouthLocation': 'low-left',\n",
              "   'goalMouthCoordinates': {'x': 0, 'y': 53.4, 'z': 19},\n",
              "   'blockCoordinates': {'x': 8.6, 'y': 65, 'z': 0},\n",
              "   'xg': 0.03737772628665,\n",
              "   'id': 3261720,\n",
              "   'time': 10,\n",
              "   'timeSeconds': 553,\n",
              "   'draw': {'start': {'x': 71.5, 'y': 11.7},\n",
              "    'block': {'x': 65, 'y': 8.6},\n",
              "    'end': {'x': 46.6, 'y': 0},\n",
              "    'goal': {'x': 46.6, 'y': 81}},\n",
              "   'reversedPeriodTime': 36,\n",
              "   'reversedPeriodTimeSeconds': 2147,\n",
              "   'incidentType': 'shot'},\n",
              "  {'player': {'name': 'Federico Valverde',\n",
              "    'slug': 'federico-valverde',\n",
              "    'shortName': 'F. Valverde',\n",
              "    'position': 'M',\n",
              "    'jerseyNumber': '15',\n",
              "    'userCount': 91924,\n",
              "    'id': 831808,\n",
              "    'fieldTranslations': {'nameTranslation': {'ar': 'فالفيردي, فيديريكو'},\n",
              "     'shortNameTranslation': {'ar': 'ف. فالفيردي'}}},\n",
              "   'isHome': False,\n",
              "   'shotType': 'save',\n",
              "   'situation': 'assisted',\n",
              "   'playerCoordinates': {'x': 30.2, 'y': 32.8, 'z': 0},\n",
              "   'bodyPart': 'right-foot',\n",
              "   'goalMouthLocation': 'low-left',\n",
              "   'goalMouthCoordinates': {'x': 0, 'y': 53.2, 'z': 7.6},\n",
              "   'blockCoordinates': {'x': 2.2, 'y': 48, 'z': 0},\n",
              "   'xg': 0.011488150805235,\n",
              "   'xgot': 0.1236,\n",
              "   'id': 3261719,\n",
              "   'time': 9,\n",
              "   'timeSeconds': 515,\n",
              "   'draw': {'start': {'x': 32.8, 'y': 30.2},\n",
              "    'block': {'x': 48, 'y': 2.2},\n",
              "    'end': {'x': 46.8, 'y': 0},\n",
              "    'goal': {'x': 46.8, 'y': 92.4}},\n",
              "   'reversedPeriodTime': 37,\n",
              "   'reversedPeriodTimeSeconds': 2185,\n",
              "   'incidentType': 'shot'},\n",
              "  {'player': {'name': 'Alexander Sørloth',\n",
              "    'slug': 'alexander-sorloth',\n",
              "    'shortName': 'A. Sørloth',\n",
              "    'position': 'F',\n",
              "    'jerseyNumber': '11',\n",
              "    'userCount': 5195,\n",
              "    'id': 309078,\n",
              "    'fieldTranslations': {'nameTranslation': {'ar': 'سورلوث, ألكسندر'},\n",
              "     'shortNameTranslation': {'ar': 'أ. سورلوث'}}},\n",
              "   'isHome': True,\n",
              "   'shotType': 'post',\n",
              "   'situation': 'assisted',\n",
              "   'playerCoordinates': {'x': 28.1, 'y': 58.4, 'z': 0},\n",
              "   'bodyPart': 'left-foot',\n",
              "   'goalMouthLocation': 'right',\n",
              "   'goalMouthCoordinates': {'x': 0, 'y': 44.5, 'z': 19.6},\n",
              "   'xg': 0.016982046887279,\n",
              "   'id': 3261708,\n",
              "   'time': 6,\n",
              "   'timeSeconds': 349,\n",
              "   'draw': {'start': {'x': 58.4, 'y': 28.1},\n",
              "    'end': {'x': 55.5, 'y': 0},\n",
              "    'goal': {'x': 55.5, 'y': 80.4}},\n",
              "   'reversedPeriodTime': 40,\n",
              "   'reversedPeriodTimeSeconds': 2351,\n",
              "   'incidentType': 'shot'},\n",
              "  {'player': {'name': 'Alberto Moreno',\n",
              "    'firstName': '',\n",
              "    'lastName': '',\n",
              "    'slug': 'alberto-moreno',\n",
              "    'shortName': 'A. Moreno',\n",
              "    'position': 'D',\n",
              "    'jerseyNumber': '18',\n",
              "    'userCount': 794,\n",
              "    'id': 229740,\n",
              "    'fieldTranslations': {'nameTranslation': {'ar': 'مورينو, ألبيرتو'},\n",
              "     'shortNameTranslation': {'ar': 'أ. مورينو'}}},\n",
              "   'isHome': True,\n",
              "   'shotType': 'miss',\n",
              "   'situation': 'assisted',\n",
              "   'playerCoordinates': {'x': 14.7, 'y': 40.9, 'z': 0},\n",
              "   'bodyPart': 'left-foot',\n",
              "   'goalMouthLocation': 'right',\n",
              "   'goalMouthCoordinates': {'x': 0, 'y': 33.9, 'z': 5.6},\n",
              "   'xg': 0.048168569803238,\n",
              "   'id': 3261698,\n",
              "   'time': 6,\n",
              "   'timeSeconds': 301,\n",
              "   'draw': {'start': {'x': 40.9, 'y': 14.7},\n",
              "    'end': {'x': 66.1, 'y': 0},\n",
              "    'goal': {'x': 66.1, 'y': 94.4}},\n",
              "   'reversedPeriodTime': 40,\n",
              "   'reversedPeriodTimeSeconds': 2399,\n",
              "   'incidentType': 'shot'}]}"
            ]
          },
          "metadata": {},
          "execution_count": 79
        }
      ]
    },
    {
      "cell_type": "markdown",
      "source": [
        "### Con su ejemplo particular."
      ],
      "metadata": {
        "id": "OlAosreboH37"
      },
      "id": "OlAosreboH37"
    },
    {
      "cell_type": "code",
      "execution_count": 70,
      "outputs": [],
      "source": [
        "# These are the headers we need to access the API\n",
        "headers = {\n",
        "    'authority': 'api.sofascore.com',\n",
        "    'accept': '*/*',\n",
        "    'accept-language': 'en-US,en;q=0.9',\n",
        "    'cache-control': 'max-age=0',\n",
        "    'dnt': '1',\n",
        "    'if-none-match': 'W/\"4bebed6144\"',\n",
        "    'origin': 'https://www.sofascore.com',\n",
        "    'referer': 'https://www.sofascore.com/',\n",
        "    'sec-ch-ua': '\"Not.A/Brand\";v=\"8\", \"Chromium\";v=\"114\"',\n",
        "    'sec-ch-ua-mobile': '?0',\n",
        "    'sec-ch-ua-platform': '\"macOS\"',\n",
        "    'sec-fetch-dest': 'empty',\n",
        "    'sec-fetch-mode': 'cors',\n",
        "    'sec-fetch-site': 'same-site',\n",
        "    'user-agent': 'Mozilla/5.0 (Macintosh; Intel Mac OS X 10_15_7) AppleWebKit/537.36 (KHTML, like Gecko) Chrome/114.0.0.0 Safari/537.36',\n",
        "}\n",
        "\n",
        "# you'll need to change the url to match the one you copied. As you can see they have some sort of match id to identify the game --> 10385636\n",
        "response = requests.get('https://api.sofascore.com/api/v1/event/10385636/shotmap', headers=headers)"
      ],
      "metadata": {
        "id": "5a5K-2u_fnES"
      },
      "id": "5a5K-2u_fnES"
    },
    {
      "cell_type": "code",
      "execution_count": 71,
      "outputs": [
        {
          "output_type": "execute_result",
          "data": {
            "text/plain": [
              "<Response [200]>"
            ]
          },
          "metadata": {},
          "execution_count": 71
        }
      ],
      "source": [
        "# If you make the request without doing anything else though you will get a 304 response\n",
        "# which means \"not modified\"\n",
        "response"
      ],
      "metadata": {
        "id": "XhwExkRHfnES",
        "outputId": "38df88f6-26b5-4ddb-b8da-8edb3d313af6",
        "colab": {
          "base_uri": "https://localhost:8080/"
        }
      },
      "id": "XhwExkRHfnES"
    },
    {
      "cell_type": "code",
      "execution_count": 72,
      "outputs": [],
      "source": [
        "# The way to fix this is to add the 'If-Modified-Since' header to the request\n",
        "# You can change this dynamically or just hardcode and change it every time you run the script\n",
        "headers['If-Modified-Since'] = 'Tues, 18 Jul 2023 00:00:00 GMT'"
      ],
      "metadata": {
        "id": "pdGlCdtYfnET"
      },
      "id": "pdGlCdtYfnET"
    },
    {
      "cell_type": "code",
      "execution_count": 73,
      "outputs": [
        {
          "output_type": "execute_result",
          "data": {
            "text/plain": [
              "<Response [200]>"
            ]
          },
          "metadata": {},
          "execution_count": 73
        }
      ],
      "source": [
        "# Now we get a 200 response\n",
        "response = requests.get('https://api.sofascore.com/api/v1/event/10385636/shotmap', headers=headers)\n",
        "response"
      ],
      "metadata": {
        "id": "ZLA37hQzfnET",
        "outputId": "74d103ff-0e5a-452c-f5c6-23fe89c9274f",
        "colab": {
          "base_uri": "https://localhost:8080/"
        }
      },
      "id": "ZLA37hQzfnET"
    },
    {
      "cell_type": "code",
      "execution_count": 74,
      "outputs": [],
      "source": [
        "# Now we can get the data we want\n",
        "shots = response.json()"
      ],
      "metadata": {
        "id": "EF5TxybPfnET"
      },
      "id": "EF5TxybPfnET"
    },
    {
      "cell_type": "markdown",
      "source": [
        "### This is an example of one of the many ways to get data from sofascore,you can also look through their different API's and see what you can find"
      ],
      "metadata": {
        "collapsed": false,
        "id": "Ep7Irw4sfnET"
      },
      "id": "Ep7Irw4sfnET"
    },
    {
      "cell_type": "code",
      "execution_count": null,
      "outputs": [],
      "source": [],
      "metadata": {
        "id": "DeZIxBKYfnET"
      },
      "id": "DeZIxBKYfnET"
    }
  ],
  "metadata": {
    "kernelspec": {
      "display_name": "Python 3",
      "language": "python",
      "name": "python3"
    },
    "language_info": {
      "codemirror_mode": {
        "name": "ipython",
        "version": 2
      },
      "file_extension": ".py",
      "mimetype": "text/x-python",
      "name": "python",
      "nbconvert_exporter": "python",
      "pygments_lexer": "ipython2",
      "version": "2.7.6"
    },
    "colab": {
      "provenance": [],
      "include_colab_link": true
    }
  },
  "nbformat": 4,
  "nbformat_minor": 5
}